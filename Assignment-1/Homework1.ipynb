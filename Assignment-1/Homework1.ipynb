{
 "cells": [
  {
   "cell_type": "markdown",
   "metadata": {},
   "source": [
    "# Resampling Techniques - Homework 1"
   ]
  },
  {
   "cell_type": "markdown",
   "metadata": {},
   "source": [
    "### Import Necessary Libraries"
   ]
  },
  {
   "cell_type": "code",
   "execution_count": 93,
   "metadata": {},
   "outputs": [],
   "source": [
    "# general\n",
    "from tqdm import tqdm\n",
    "import itertools\n",
    "\n",
    "\n",
    "# matrix manipulation\n",
    "import numpy as np\n",
    "\n",
    "# plotting\n",
    "import matplotlib.pyplot as plt\n",
    "\n",
    "# custom probability distribution\n",
    "from scipy import stats\n",
    "from scipy.stats import norm, cauchy\n",
    "from scipy.special import ndtr # standard normal cdf\n",
    "from statsmodels.distributions.empirical_distribution import ECDF # empirical cdf"
   ]
  },
  {
   "cell_type": "markdown",
   "metadata": {},
   "source": [
    "#### Parameter Estimate"
   ]
  },
  {
   "cell_type": "markdown",
   "metadata": {},
   "source": [
    "Random variable with custom CDF or PDF is taken care of by the following 2 classes. For entropy calculation rather than integrating, Monte Carlo Estimation is used to ensure faster computation, but it results in poor estimates and hence low coverage probabilities as can be seen in all the simulations.\n",
    "\n",
    "$$Entropy_{MC} = -\\frac{1}{n}\\sum_{i=1}^{n}\\log{\\hat{f}(X_i)}$$\n",
    "where, $\\{X_i\\}_{i=1}^n$ is a random sample from the CDF $F$ or empirical CDF $F_n$ and since empirical pdf for continuous distribution is almost impossible to find out as each value needs to repeat in that case which has a very low probability and theoretically $0$. I use histogram as the estimate for the empirical pdf and is denoted by $\\hat{f}$."
   ]
  },
  {
   "cell_type": "code",
   "execution_count": 2,
   "metadata": {},
   "outputs": [],
   "source": [
    "# RV with custom cdf\n",
    "class CustomCDFRV(stats.rv_continuous):\n",
    "    def __init__(self, cdf_func, a = None, b = None, xtol = 1e-14, seed = None):\n",
    "        super().__init__(a = a, b = b, xtol=xtol, seed=seed)\n",
    "        self.cdf_func = cdf_func\n",
    "\n",
    "    def _cdf(self, x):\n",
    "        return self.cdf_func(x)\n",
    "    \n",
    "    def monte_mean(self, num_monte_carlo:int = 100): # it is faster than finding mean by integration\n",
    "        return np.mean(self.rvs(size=num_monte_carlo))\n",
    "    \n",
    "    def _entropy(self, num_monte_carlo:int = 100): # doing integration gives unstable result\n",
    "        return np.mean(-np.log(self.pdf(self.rvs(size=num_monte_carlo))))\n",
    "\n",
    "# RV with custom pdf -- IT'S SLOW AND ERRANEOUS\n",
    "class CustomPDFRV(stats.rv_continuous):\n",
    "    def __init__(self, pdf_func, a = None, b = None, xtol = 1e-14, seed = None):\n",
    "        super().__init__(a=a, b = b, xtol=xtol, seed=seed)\n",
    "        self.pdf_func = pdf_func\n",
    "\n",
    "    def _pdf(self, x):\n",
    "        return self.pdf_func(x)\n",
    "    \n",
    "    def monte_mean(self, num_monte_carlo:int = 100): # it is faster than finding mean by integration\n",
    "        return np.mean(self.rvs(size=num_monte_carlo))\n",
    "    \n",
    "    def _entropy(self, num_monte_carlo:int = 100): # doing integration gives unstable result\n",
    "        return np.mean(-np.log(self.pdf(self.rvs(size=num_monte_carlo))))"
   ]
  },
  {
   "cell_type": "markdown",
   "metadata": {},
   "source": [
    "Since, estimating differential entropy requires estimate for the empirical pdf. I use the histogram here as the estimate for the empirical pdf. The binwidth is chosen using the following thumb rule,\n",
    "$$h = 2\\times IQR \\times n^{-\\frac{1}{3}}$$"
   ]
  },
  {
   "cell_type": "code",
   "execution_count": 3,
   "metadata": {},
   "outputs": [],
   "source": [
    "def emp_entropy(ecdf):\n",
    "    iqr = np.quantile(ecdf.cdf_func.x[1:], 3/4, method='lower') - np.quantile(ecdf.cdf_func.x[1:], 1/4, method='lower')\n",
    "    h = 2 * iqr * np.float_power(len(ecdf.cdf_func.x[1:]), -1/3)\n",
    "    num_bins = int((np.max(ecdf.cdf_func.x[1:]) - np.min(ecdf.cdf_func.x[1:])) // h)\n",
    "    probs, bin_edges = np.histogram(ecdf.cdf_func.x[1:], density=True, bins=num_bins)\n",
    "    bin_edges =  np.concatenate([[-np.inf], bin_edges, [np.inf]])\n",
    "    probs = np.concatenate([[0.0], probs, [0.0]])\n",
    "    return np.ma.masked_invalid(-np.log([probs[np.argmax(bin_edges >= x) - 1] for x in ecdf.cdf_func.x[1:]])).mean()"
   ]
  },
  {
   "cell_type": "markdown",
   "metadata": {},
   "source": [
    "The following are some of the values chosen for the rest of the assignment."
   ]
  },
  {
   "cell_type": "code",
   "execution_count": 4,
   "metadata": {},
   "outputs": [],
   "source": [
    "SAMPLE_SIZE = 20\n",
    "NUM_BOOTSTRAPS = 50\n",
    "COVERAGE_PROB_ITERS = 100"
   ]
  },
  {
   "cell_type": "code",
   "execution_count": 5,
   "metadata": {},
   "outputs": [],
   "source": [
    "cust_norm_rv = CustomCDFRV(ndtr) # standard normal random variable\n",
    "cust_exp_rv = CustomCDFRV(lambda x: 1-np.exp(-x), a = 0) # Exp(1) random variable"
   ]
  },
  {
   "cell_type": "code",
   "execution_count": 6,
   "metadata": {},
   "outputs": [
    {
     "data": {
      "text/plain": [
       "1.4629070222344713"
      ]
     },
     "execution_count": 6,
     "metadata": {},
     "output_type": "execute_result"
    }
   ],
   "source": [
    "cust_norm_rv.entropy()"
   ]
  },
  {
   "cell_type": "markdown",
   "metadata": {},
   "source": [
    "#### Exact Resampling"
   ]
  },
  {
   "cell_type": "markdown",
   "metadata": {},
   "source": [
    "Here, I resampled the sample again and again from the true distribution function and treated them as Bootstrap sample. The results are obviously much better than the other techniques as it relies on having access to the true distribution as many number of times as wished. The confidence interval has comparitively smaller length and the coverage probabilities are near perfect."
   ]
  },
  {
   "cell_type": "code",
   "execution_count": 7,
   "metadata": {},
   "outputs": [],
   "source": [
    "def exact_resampling(RV, statistic, sample_size: int = SAMPLE_SIZE, num_bootstraps: int = NUM_BOOTSTRAPS, **kwargs):\n",
    "\n",
    "    # gets the resampled data\n",
    "    resampled_data = np.array([RV.rvs(size=sample_size, **kwargs) for _ in range(num_bootstraps)])\n",
    "\n",
    "    # gets the ecdf for the entire resampled data\n",
    "    net_ecdf = CustomCDFRV(ECDF(resampled_data.ravel()), np.min(resampled_data), np.max(resampled_data))\n",
    "\n",
    "    # get point estimate\n",
    "    point_estimate = statistic(net_ecdf)\n",
    "\n",
    "    # gets the ECDF of each resampled data\n",
    "    ecdf_data = [CustomCDFRV(ECDF(bootstrap_sample), np.min(bootstrap_sample), np.max(bootstrap_sample)) for bootstrap_sample in resampled_data]\n",
    "\n",
    "    # gets the resample data statistic\n",
    "    resampled_statistics = np.array([np.sqrt(sample_size) * (statistic(ecdf) - point_estimate) for ecdf in ecdf_data])\n",
    "\n",
    "    # gets the resampled data statistic's ecdf\n",
    "    resampled_statistic_ecdf = CustomCDFRV(ECDF(resampled_statistics))\n",
    "\n",
    "    return np.array([point_estimate + resampled_statistic_ecdf.ppf(0.025)/np.sqrt(sample_size), point_estimate + \n",
    "            resampled_statistic_ecdf.ppf(0.975)/np.sqrt(sample_size)])"
   ]
  },
  {
   "cell_type": "code",
   "execution_count": 20,
   "metadata": {},
   "outputs": [],
   "source": [
    "def evaluate_all(RV, **kwargs):\n",
    "    print('*** BOOTSTRAP CONFIDENCE INTERVALS ***')\n",
    "    print('For Mean:', exact_resampling(RV, lambda ecdf: ecdf.cdf_func.x[1:].mean(), **kwargs))\n",
    "    print('For Median:', exact_resampling(RV, lambda ecdf: ecdf.median(), **kwargs))\n",
    "    print('For IQR:', exact_resampling(RV, lambda ecdf: ecdf.ppf(3/4) - ecdf.ppf(1/4), **kwargs))\n",
    "    print('For Entropy:', exact_resampling(RV, emp_entropy, **kwargs))\n",
    "\n",
    "    print()\n",
    "    print('*** TRUE PARAMETER VALUES ***')\n",
    "    print('For Mean:', RV.mean(**kwargs))\n",
    "    print('For Median:', RV.median(**kwargs))\n",
    "    print('For IQR:', RV.ppf(3/4, **kwargs) - RV.ppf(1/4, **kwargs))\n",
    "    print('For Entropy:', RV.entropy(**kwargs))\n",
    "\n",
    "    print()\n",
    "    print('*** COVERAGE PROBABILITIES ***')\n",
    "    print('For Mean:', np.mean([np.sum(exact_resampling(RV, lambda ecdf: ecdf.cdf_func.x[1:].mean(), **kwargs) <= RV.mean(**kwargs)) == 1 for _ in tqdm(range(COVERAGE_PROB_ITERS))]))\n",
    "    print('For Median:', np.mean([np.sum(exact_resampling(RV, lambda ecdf: ecdf.median(), **kwargs) <= RV.median(**kwargs)) == 1 for _ in tqdm(range(COVERAGE_PROB_ITERS))]))\n",
    "    print('For IQR:', np.mean([np.sum(exact_resampling(RV, lambda ecdf: ecdf.ppf(3/4) - ecdf.ppf(1/4), **kwargs) <= RV.ppf(3/4, **kwargs) - RV.ppf(1/4, **kwargs)) == 1 for _ in tqdm(range(COVERAGE_PROB_ITERS))]))\n",
    "    print('For Entropy:', np.mean([np.sum(exact_resampling(RV, emp_entropy, **kwargs) <= RV.entropy(**kwargs)) == 1 for _ in tqdm(range(COVERAGE_PROB_ITERS))]))"
   ]
  },
  {
   "cell_type": "markdown",
   "metadata": {},
   "source": [
    "##### Normal(0, 1) Distribution"
   ]
  },
  {
   "cell_type": "code",
   "execution_count": 21,
   "metadata": {},
   "outputs": [
    {
     "name": "stdout",
     "output_type": "stream",
     "text": [
      "*** BOOTSTRAP CONFIDENCE INTERVALS ***\n",
      "For Mean: [-0.50162051  0.46058489]\n",
      "For Median: [-0.44724029  0.48643302]\n",
      "For IQR: [0.85025879 1.92980969]\n"
     ]
    },
    {
     "name": "stderr",
     "output_type": "stream",
     "text": [
      "/var/folders/mg/l90d6s9536n6mfzjbqgrxffm0000gn/T/ipykernel_14340/184846182.py:8: RuntimeWarning: divide by zero encountered in log\n",
      "  return np.ma.masked_invalid(-np.log([probs[np.argmax(bin_edges >= x) - 1] for x in ecdf.cdf_func.x[1:]])).mean()\n"
     ]
    },
    {
     "name": "stdout",
     "output_type": "stream",
     "text": [
      "For Entropy: [0.90920166 1.42997591]\n",
      "\n",
      "*** TRUE PARAMETER VALUES ***\n",
      "For Mean: 0.0\n",
      "For Median: 0.0\n",
      "For IQR: 1.3489795003921634\n",
      "For Entropy: 1.4189385332046727\n",
      "\n",
      "*** COVERAGE PROBABILITIES ***\n"
     ]
    },
    {
     "name": "stderr",
     "output_type": "stream",
     "text": [
      "100%|██████████| 100/100 [00:01<00:00, 56.29it/s]\n"
     ]
    },
    {
     "name": "stdout",
     "output_type": "stream",
     "text": [
      "For Mean: 1.0\n"
     ]
    },
    {
     "name": "stderr",
     "output_type": "stream",
     "text": [
      "100%|██████████| 100/100 [00:13<00:00,  7.66it/s]\n"
     ]
    },
    {
     "name": "stdout",
     "output_type": "stream",
     "text": [
      "For Median: 1.0\n"
     ]
    },
    {
     "name": "stderr",
     "output_type": "stream",
     "text": [
      "100%|██████████| 100/100 [00:03<00:00, 25.64it/s]\n"
     ]
    },
    {
     "name": "stdout",
     "output_type": "stream",
     "text": [
      "For IQR: 1.0\n"
     ]
    },
    {
     "name": "stderr",
     "output_type": "stream",
     "text": [
      "100%|██████████| 100/100 [00:02<00:00, 37.36it/s]"
     ]
    },
    {
     "name": "stdout",
     "output_type": "stream",
     "text": [
      "For Entropy: 0.92\n"
     ]
    },
    {
     "name": "stderr",
     "output_type": "stream",
     "text": [
      "\n"
     ]
    }
   ],
   "source": [
    "evaluate_all(norm)"
   ]
  },
  {
   "cell_type": "markdown",
   "metadata": {},
   "source": [
    "##### Normal(5, 1) Distribution"
   ]
  },
  {
   "cell_type": "code",
   "execution_count": 22,
   "metadata": {},
   "outputs": [
    {
     "name": "stderr",
     "output_type": "stream",
     "text": [
      "/var/folders/mg/l90d6s9536n6mfzjbqgrxffm0000gn/T/ipykernel_14340/184846182.py:8: RuntimeWarning: divide by zero encountered in log\n",
      "  return np.ma.masked_invalid(-np.log([probs[np.argmax(bin_edges >= x) - 1] for x in ecdf.cdf_func.x[1:]])).mean()\n"
     ]
    },
    {
     "name": "stdout",
     "output_type": "stream",
     "text": [
      "*** BOOTSTRAP CONFIDENCE INTERVALS ***\n",
      "For Mean: [4.53342066 5.34385121]\n",
      "For Median: [4.66192238 5.54904764]\n",
      "For IQR: [0.78117713 1.9739037 ]\n",
      "For Entropy: [0.81874155 1.4221989 ]\n",
      "\n",
      "*** TRUE PARAMETER VALUES ***\n",
      "For Mean: 5.0\n",
      "For Median: 5.0\n",
      "For IQR: 1.3489795003921632\n",
      "For Entropy: 1.4189385332046727\n",
      "\n",
      "*** COVERAGE PROBABILITIES ***\n"
     ]
    },
    {
     "name": "stderr",
     "output_type": "stream",
     "text": [
      "100%|██████████| 100/100 [00:01<00:00, 55.80it/s]\n"
     ]
    },
    {
     "name": "stdout",
     "output_type": "stream",
     "text": [
      "For Mean: 1.0\n"
     ]
    },
    {
     "name": "stderr",
     "output_type": "stream",
     "text": [
      "100%|██████████| 100/100 [00:12<00:00,  7.76it/s]\n"
     ]
    },
    {
     "name": "stdout",
     "output_type": "stream",
     "text": [
      "For Median: 1.0\n"
     ]
    },
    {
     "name": "stderr",
     "output_type": "stream",
     "text": [
      "100%|██████████| 100/100 [00:03<00:00, 25.21it/s]\n"
     ]
    },
    {
     "name": "stdout",
     "output_type": "stream",
     "text": [
      "For IQR: 1.0\n"
     ]
    },
    {
     "name": "stderr",
     "output_type": "stream",
     "text": [
      "100%|██████████| 100/100 [00:02<00:00, 37.67it/s]"
     ]
    },
    {
     "name": "stdout",
     "output_type": "stream",
     "text": [
      "For Entropy: 0.89\n"
     ]
    },
    {
     "name": "stderr",
     "output_type": "stream",
     "text": [
      "\n"
     ]
    }
   ],
   "source": [
    "evaluate_all(norm, loc=5)"
   ]
  },
  {
   "cell_type": "markdown",
   "metadata": {},
   "source": [
    "##### Normal(5, 9) Distribution"
   ]
  },
  {
   "cell_type": "code",
   "execution_count": 23,
   "metadata": {},
   "outputs": [
    {
     "name": "stderr",
     "output_type": "stream",
     "text": [
      "/var/folders/mg/l90d6s9536n6mfzjbqgrxffm0000gn/T/ipykernel_14340/184846182.py:8: RuntimeWarning: divide by zero encountered in log\n",
      "  return np.ma.masked_invalid(-np.log([probs[np.argmax(bin_edges >= x) - 1] for x in ecdf.cdf_func.x[1:]])).mean()\n"
     ]
    },
    {
     "name": "stdout",
     "output_type": "stream",
     "text": [
      "*** BOOTSTRAP CONFIDENCE INTERVALS ***\n",
      "For Mean: [3.64363594 6.30702352]\n",
      "For Median: [3.89787655 7.07393481]\n",
      "For IQR: [2.08583044 5.20921586]\n",
      "For Entropy: [1.86699938 2.61216594]\n",
      "\n",
      "*** TRUE PARAMETER VALUES ***\n",
      "For Mean: 5.0\n",
      "For Median: 5.0\n",
      "For IQR: 4.046938501176491\n",
      "For Entropy: 2.5175508218727822\n",
      "\n",
      "*** COVERAGE PROBABILITIES ***\n"
     ]
    },
    {
     "name": "stderr",
     "output_type": "stream",
     "text": [
      "100%|██████████| 100/100 [00:01<00:00, 56.04it/s]\n"
     ]
    },
    {
     "name": "stdout",
     "output_type": "stream",
     "text": [
      "For Mean: 1.0\n"
     ]
    },
    {
     "name": "stderr",
     "output_type": "stream",
     "text": [
      "100%|██████████| 100/100 [00:13<00:00,  7.51it/s]\n"
     ]
    },
    {
     "name": "stdout",
     "output_type": "stream",
     "text": [
      "For Median: 1.0\n"
     ]
    },
    {
     "name": "stderr",
     "output_type": "stream",
     "text": [
      "100%|██████████| 100/100 [00:03<00:00, 25.41it/s]\n"
     ]
    },
    {
     "name": "stdout",
     "output_type": "stream",
     "text": [
      "For IQR: 1.0\n"
     ]
    },
    {
     "name": "stderr",
     "output_type": "stream",
     "text": [
      "100%|██████████| 100/100 [00:02<00:00, 37.11it/s]"
     ]
    },
    {
     "name": "stdout",
     "output_type": "stream",
     "text": [
      "For Entropy: 0.9\n"
     ]
    },
    {
     "name": "stderr",
     "output_type": "stream",
     "text": [
      "\n"
     ]
    }
   ],
   "source": [
    "evaluate_all(norm, loc=5, scale=3)"
   ]
  },
  {
   "cell_type": "markdown",
   "metadata": {},
   "source": [
    "##### Cauchy(5, 9) Distribution"
   ]
  },
  {
   "cell_type": "code",
   "execution_count": 24,
   "metadata": {},
   "outputs": [
    {
     "name": "stdout",
     "output_type": "stream",
     "text": [
      "*** BOOTSTRAP CONFIDENCE INTERVALS ***\n",
      "For Mean: [-25.43186907  44.29733189]\n",
      "For Median: [3.05560127 8.69550191]\n",
      "For IQR: [ 3.28674209 14.15490763]\n"
     ]
    },
    {
     "name": "stderr",
     "output_type": "stream",
     "text": [
      "/var/folders/mg/l90d6s9536n6mfzjbqgrxffm0000gn/T/ipykernel_14340/184846182.py:8: RuntimeWarning: divide by zero encountered in log\n",
      "  return np.ma.masked_invalid(-np.log([probs[np.argmax(bin_edges >= x) - 1] for x in ecdf.cdf_func.x[1:]])).mean()\n"
     ]
    },
    {
     "name": "stdout",
     "output_type": "stream",
     "text": [
      "For Entropy: [2.35118421 3.84739899]\n",
      "\n",
      "*** TRUE PARAMETER VALUES ***\n",
      "For Mean: nan\n",
      "For Median: 5.0\n",
      "For IQR: 6.0\n",
      "For Entropy: 3.6296365356374007\n",
      "\n",
      "*** COVERAGE PROBABILITIES ***\n"
     ]
    },
    {
     "name": "stderr",
     "output_type": "stream",
     "text": [
      "100%|██████████| 100/100 [00:01<00:00, 55.66it/s]\n"
     ]
    },
    {
     "name": "stdout",
     "output_type": "stream",
     "text": [
      "For Mean: 0.0\n"
     ]
    },
    {
     "name": "stderr",
     "output_type": "stream",
     "text": [
      "100%|██████████| 100/100 [00:13<00:00,  7.21it/s]\n"
     ]
    },
    {
     "name": "stdout",
     "output_type": "stream",
     "text": [
      "For Median: 1.0\n"
     ]
    },
    {
     "name": "stderr",
     "output_type": "stream",
     "text": [
      "100%|██████████| 100/100 [00:04<00:00, 21.21it/s]\n"
     ]
    },
    {
     "name": "stdout",
     "output_type": "stream",
     "text": [
      "For IQR: 1.0\n"
     ]
    },
    {
     "name": "stderr",
     "output_type": "stream",
     "text": [
      "100%|██████████| 100/100 [00:02<00:00, 36.16it/s]"
     ]
    },
    {
     "name": "stdout",
     "output_type": "stream",
     "text": [
      "For Entropy: 0.79\n"
     ]
    },
    {
     "name": "stderr",
     "output_type": "stream",
     "text": [
      "\n"
     ]
    }
   ],
   "source": [
    "evaluate_all(cauchy, loc=5, scale=3)"
   ]
  },
  {
   "cell_type": "markdown",
   "metadata": {},
   "source": [
    "##### 1/2 * Normal(5, 1) + 1/2 * Cauchy(10, 1) Distribution"
   ]
  },
  {
   "cell_type": "code",
   "execution_count": 25,
   "metadata": {},
   "outputs": [
    {
     "name": "stdout",
     "output_type": "stream",
     "text": [
      "*** BOOTSTRAP CONFIDENCE INTERVALS ***\n",
      "For Mean: [ 3.5957454  14.10338629]\n",
      "For Median: [5.2445834  9.79953697]\n",
      "For IQR: [2.11966964 6.47262403]\n"
     ]
    },
    {
     "name": "stderr",
     "output_type": "stream",
     "text": [
      "/var/folders/mg/l90d6s9536n6mfzjbqgrxffm0000gn/T/ipykernel_14340/184846182.py:8: RuntimeWarning: divide by zero encountered in log\n",
      "  return np.ma.masked_invalid(-np.log([probs[np.argmax(bin_edges >= x) - 1] for x in ecdf.cdf_func.x[1:]])).mean()\n"
     ]
    },
    {
     "name": "stdout",
     "output_type": "stream",
     "text": [
      "For Entropy: [1.86530187 2.69646429]\n",
      "\n",
      "*** TRUE PARAMETER VALUES ***\n",
      "For Mean: 7.500000000000184\n",
      "For Median: 6.368752841046282\n",
      "For IQR: 5.153524566844071\n",
      "For Entropy: 2.5698023611170435\n",
      "\n",
      "*** COVERAGE PROBABILITIES ***\n"
     ]
    },
    {
     "name": "stderr",
     "output_type": "stream",
     "text": [
      "100%|██████████| 100/100 [03:35<00:00,  2.16s/it]\n"
     ]
    },
    {
     "name": "stdout",
     "output_type": "stream",
     "text": [
      "For Mean: 1.0\n"
     ]
    },
    {
     "name": "stderr",
     "output_type": "stream",
     "text": [
      "100%|██████████| 100/100 [02:01<00:00,  1.22s/it]\n"
     ]
    },
    {
     "name": "stdout",
     "output_type": "stream",
     "text": [
      "For Median: 1.0\n"
     ]
    },
    {
     "name": "stderr",
     "output_type": "stream",
     "text": [
      "100%|██████████| 100/100 [01:53<00:00,  1.13s/it]\n"
     ]
    },
    {
     "name": "stdout",
     "output_type": "stream",
     "text": [
      "For IQR: 1.0\n"
     ]
    },
    {
     "name": "stderr",
     "output_type": "stream",
     "text": [
      "100%|██████████| 100/100 [02:02<00:00,  1.22s/it]"
     ]
    },
    {
     "name": "stdout",
     "output_type": "stream",
     "text": [
      "For Entropy: 0.91\n"
     ]
    },
    {
     "name": "stderr",
     "output_type": "stream",
     "text": [
      "\n"
     ]
    }
   ],
   "source": [
    "evaluate_all(CustomCDFRV(lambda x: (norm.cdf(x, loc=5, scale=1) + cauchy.cdf(x, loc=10, scale=1))/2))"
   ]
  },
  {
   "cell_type": "markdown",
   "metadata": {},
   "source": [
    "#### Non-Parametric Bootstrap"
   ]
  },
  {
   "cell_type": "markdown",
   "metadata": {},
   "source": [
    "Here, I took one sample from the true distribution and then using that sample the resampling was done to obtain the bootstrap estimate. I used $F_n$ i.e. empirical CDF as an estimator of $F$."
   ]
  },
  {
   "cell_type": "code",
   "execution_count": 33,
   "metadata": {},
   "outputs": [],
   "source": [
    "def nonparam_bootstrapping(RV, statistic, sample_size: int = SAMPLE_SIZE, num_bootstraps: int = NUM_BOOTSTRAPS, **kwargs):\n",
    "\n",
    "    # get the sample\n",
    "    sample_data = RV.rvs(size=sample_size, **kwargs)\n",
    "\n",
    "    # gets the ecdf for the sample\n",
    "    net_ecdf_rv = CustomCDFRV(ECDF(sample_data), np.min(sample_data), np.max(sample_data))\n",
    "\n",
    "    # get point estimate\n",
    "    point_estimate = statistic(net_ecdf_rv)\n",
    "\n",
    "    # gets the resampled data\n",
    "    resampled_data = np.array([net_ecdf_rv.rvs(size=sample_size) for _ in range(num_bootstraps)])\n",
    "\n",
    "    # gets the ECDF of each resampled data\n",
    "    ecdf_data = [CustomCDFRV(ECDF(bootstrap_sample), np.min(bootstrap_sample), np.max(bootstrap_sample)) for bootstrap_sample in resampled_data]\n",
    "\n",
    "    # gets the resample data statistic\n",
    "    resampled_statistics = np.array([np.sqrt(sample_size) * (statistic(ecdf) - point_estimate) for ecdf in ecdf_data])\n",
    "\n",
    "    # gets the resampled data statistic's ecdf\n",
    "    resampled_statistic_ecdf = CustomCDFRV(ECDF(resampled_statistics))\n",
    "\n",
    "    return np.array([point_estimate + resampled_statistic_ecdf.ppf(0.025)/np.sqrt(sample_size), point_estimate + \n",
    "            resampled_statistic_ecdf.ppf(0.975)/np.sqrt(sample_size)])"
   ]
  },
  {
   "cell_type": "code",
   "execution_count": 34,
   "metadata": {},
   "outputs": [],
   "source": [
    "def evaluate_all(RV, **kwargs):\n",
    "    print('*** BOOTSTRAP CONFIDENCE INTERVALS ***')\n",
    "    print('For Mean:', nonparam_bootstrapping(RV, lambda ecdf: ecdf.cdf_func.x[1:].mean(), **kwargs))\n",
    "    print('For Median:', nonparam_bootstrapping(RV, lambda ecdf: ecdf.median(), **kwargs))\n",
    "    print('For IQR:', nonparam_bootstrapping(RV, lambda ecdf: ecdf.ppf(3/4) - ecdf.ppf(1/4), **kwargs))\n",
    "    print('For Entropy:', nonparam_bootstrapping(RV, emp_entropy, **kwargs))\n",
    "\n",
    "    true_mean = RV.mean(**kwargs)\n",
    "    true_median = RV.median(**kwargs)\n",
    "    true_iqr = RV.ppf(3/4, **kwargs) - RV.ppf(1/4, **kwargs)\n",
    "    true_entropy = RV.entropy(**kwargs)\n",
    "\n",
    "    print()\n",
    "    print('*** TRUE PARAMETER VALUES ***')\n",
    "    print('For Mean:', true_mean)\n",
    "    print('For Median:', true_median)\n",
    "    print('For IQR:', true_iqr)\n",
    "    print('For Entropy:', true_entropy)\n",
    "\n",
    "    print()\n",
    "    print('*** COVERAGE PROBABILITIES ***')\n",
    "    print('For Mean:', np.mean([np.sum(nonparam_bootstrapping(RV, lambda ecdf: ecdf.cdf_func.x[1:].mean(), **kwargs) <= true_mean) == 1 for _ in tqdm(range(COVERAGE_PROB_ITERS))]))\n",
    "    print('For Median:', np.mean([np.sum(nonparam_bootstrapping(RV, lambda ecdf: ecdf.median(), **kwargs) <= true_median) == 1 for _ in tqdm(range(COVERAGE_PROB_ITERS))]))\n",
    "    print('For IQR:', np.mean([np.sum(nonparam_bootstrapping(RV, lambda ecdf: ecdf.ppf(3/4) - ecdf.ppf(1/4), **kwargs) <= true_iqr) == 1 for _ in tqdm(range(COVERAGE_PROB_ITERS))]))\n",
    "    print('For Entropy:', np.mean([np.sum(nonparam_bootstrapping(RV, emp_entropy, **kwargs) <= true_entropy) == 1 for _ in tqdm(range(COVERAGE_PROB_ITERS))]))"
   ]
  },
  {
   "cell_type": "markdown",
   "metadata": {},
   "source": [
    "##### Normal(0, 1) Distribution"
   ]
  },
  {
   "cell_type": "code",
   "execution_count": 35,
   "metadata": {},
   "outputs": [
    {
     "name": "stdout",
     "output_type": "stream",
     "text": [
      "*** BOOTSTRAP CONFIDENCE INTERVALS ***\n",
      "For Mean: [-0.21189116  0.47400186]\n",
      "For Median: [-0.5582355   0.20114741]\n",
      "For IQR: [0.62655702 1.84173077]\n"
     ]
    },
    {
     "name": "stderr",
     "output_type": "stream",
     "text": [
      "/var/folders/mg/l90d6s9536n6mfzjbqgrxffm0000gn/T/ipykernel_14340/184846182.py:8: RuntimeWarning: divide by zero encountered in log\n",
      "  return np.ma.masked_invalid(-np.log([probs[np.argmax(bin_edges >= x) - 1] for x in ecdf.cdf_func.x[1:]])).mean()\n"
     ]
    },
    {
     "name": "stdout",
     "output_type": "stream",
     "text": [
      "For Entropy: [0.95472345 1.4238737 ]\n",
      "\n",
      "*** TRUE PARAMETER VALUES ***\n",
      "For Mean: 0.0\n",
      "For Median: 0.0\n",
      "For IQR: 1.3489795003921634\n",
      "For Entropy: 1.4189385332046727\n",
      "\n",
      "*** COVERAGE PROBABILITIES ***\n"
     ]
    },
    {
     "name": "stderr",
     "output_type": "stream",
     "text": [
      "\n",
      "\u001b[A\n",
      "\u001b[A\n",
      "\u001b[A\n",
      "\u001b[A\n",
      "\u001b[A\n",
      "\u001b[A\n",
      "\u001b[A\n",
      "\u001b[A\n",
      "\u001b[A\n",
      "\u001b[A\n",
      "\u001b[A\n",
      "\u001b[A\n",
      "\u001b[A\n",
      "\u001b[A\n",
      "\u001b[A\n",
      "\u001b[A\n",
      "\u001b[A\n",
      "\u001b[A\n",
      "\u001b[A\n",
      "\u001b[A\n",
      "\u001b[A\n",
      "\u001b[A\n",
      "\u001b[A\n",
      "\u001b[A\n",
      "\u001b[A\n",
      "\u001b[A\n",
      "\u001b[A\n",
      "\u001b[A\n",
      "\u001b[A\n",
      "\u001b[A\n",
      "\u001b[A\n",
      "\u001b[A\n",
      "\u001b[A\n",
      "\u001b[A\n",
      "\u001b[A\n",
      "\u001b[A\n",
      "\u001b[A\n",
      "\u001b[A\n",
      "\u001b[A\n",
      "\u001b[A\n",
      "\u001b[A\n",
      "\u001b[A\n",
      "\u001b[A\n",
      "\u001b[A\n",
      "\u001b[A\n",
      "\u001b[A\n",
      "\u001b[A\n",
      "\u001b[A\n",
      "\u001b[A\n",
      "\u001b[A\n",
      "\u001b[A\n",
      "\u001b[A\n",
      "\u001b[A\n",
      "\u001b[A\n",
      "\u001b[A\n",
      "\u001b[A\n",
      "\u001b[A\n",
      "\u001b[A\n",
      "\u001b[A\n",
      "\u001b[A\n",
      "\u001b[A\n",
      "\u001b[A\n",
      "\u001b[A\n",
      "\u001b[A\n",
      "\u001b[A\n",
      "\u001b[A\n",
      "\u001b[A\n",
      "\u001b[A\n",
      "\u001b[A\n",
      "\u001b[A\n",
      "\u001b[A\n",
      "\u001b[A\n",
      "\u001b[A\n",
      "\u001b[A\n",
      "\u001b[A\n",
      "\u001b[A\n",
      "\u001b[A\n",
      "\u001b[A\n",
      "\u001b[A\n",
      "\u001b[A\n",
      "\u001b[A\n",
      "\u001b[A\n",
      "\u001b[A\n",
      "\u001b[A\n",
      "\u001b[A\n",
      "\u001b[A\n",
      "\u001b[A\n",
      "\u001b[A\n",
      "\u001b[A\n",
      "\u001b[A\n",
      "\u001b[A\n",
      "\u001b[A\n",
      "\u001b[A\n",
      "\u001b[A\n",
      "\u001b[A\n",
      "\u001b[A\n",
      "\u001b[A\n",
      "\u001b[A\n",
      "\u001b[A\n",
      "\u001b[A\n",
      "100%|██████████| 100/100 [02:35<00:00,  1.56s/it]\n"
     ]
    },
    {
     "name": "stdout",
     "output_type": "stream",
     "text": [
      "For Mean: 0.88\n"
     ]
    },
    {
     "name": "stderr",
     "output_type": "stream",
     "text": [
      "\n",
      "\u001b[A\n",
      "\u001b[A\n",
      "\u001b[A\n",
      "\u001b[A\n",
      "\u001b[A\n",
      "\u001b[A\n",
      "\u001b[A\n",
      "\u001b[A\n",
      "\u001b[A\n",
      "\u001b[A\n",
      "\u001b[A\n",
      "\u001b[A\n",
      "\u001b[A\n",
      "\u001b[A\n",
      "\u001b[A\n",
      "\u001b[A\n",
      "\u001b[A\n",
      "\u001b[A\n",
      "\u001b[A\n",
      "\u001b[A\n",
      "\u001b[A\n",
      "\u001b[A\n",
      "\u001b[A\n",
      "\u001b[A\n",
      "\u001b[A\n",
      "\u001b[A\n",
      "\u001b[A\n",
      "\u001b[A\n",
      "\u001b[A\n",
      "\u001b[A\n",
      "\u001b[A\n",
      "\u001b[A\n",
      "\u001b[A\n",
      "\u001b[A\n",
      "\u001b[A\n",
      "\u001b[A\n",
      "\u001b[A\n",
      "\u001b[A\n",
      "\u001b[A\n",
      "\u001b[A\n",
      "\u001b[A\n",
      "\u001b[A\n",
      "\u001b[A\n",
      "\u001b[A\n",
      "\u001b[A\n",
      "\u001b[A\n",
      "\u001b[A\n",
      "\u001b[A\n",
      "\u001b[A\n",
      "\u001b[A\n",
      "\u001b[A\n",
      "\u001b[A\n",
      "\u001b[A\n",
      "\u001b[A\n",
      "\u001b[A\n",
      "\u001b[A\n",
      "\u001b[A\n",
      "\u001b[A\n",
      "\u001b[A\n",
      "\u001b[A\n",
      "\u001b[A\n",
      "\u001b[A\n",
      "\u001b[A\n",
      "\u001b[A\n",
      "\u001b[A\n",
      "\u001b[A\n",
      "\u001b[A\n",
      "\u001b[A\n",
      "\u001b[A\n",
      "\u001b[A\n",
      "\u001b[A\n",
      "\u001b[A\n",
      "\u001b[A\n",
      "\u001b[A\n",
      "\u001b[A\n",
      "\u001b[A\n",
      "\u001b[A\n",
      "\u001b[A\n",
      "\u001b[A\n",
      "\u001b[A\n",
      "\u001b[A\n",
      "\u001b[A\n",
      "\u001b[A\n",
      "\u001b[A\n",
      "\u001b[A\n",
      "\u001b[A\n",
      "\u001b[A\n",
      "\u001b[A\n",
      "\u001b[A\n",
      "\u001b[A\n",
      "\u001b[A\n",
      "\u001b[A\n",
      "\u001b[A\n",
      "\u001b[A\n",
      "\u001b[A\n",
      "\u001b[A\n",
      "\u001b[A\n",
      "\u001b[A\n",
      "\u001b[A\n",
      "\u001b[A\n",
      "100%|██████████| 100/100 [02:45<00:00,  1.66s/it]\n"
     ]
    },
    {
     "name": "stdout",
     "output_type": "stream",
     "text": [
      "For Median: 0.89\n"
     ]
    },
    {
     "name": "stderr",
     "output_type": "stream",
     "text": [
      "\n",
      "\u001b[A\n",
      "\u001b[A\n",
      "\u001b[A\n",
      "\u001b[A\n",
      "\u001b[A\n",
      "\u001b[A\n",
      "\u001b[A\n",
      "\u001b[A\n",
      "\u001b[A\n",
      "\u001b[A\n",
      "\u001b[A\n",
      "\u001b[A\n",
      "\u001b[A\n",
      "\u001b[A\n",
      "\u001b[A\n",
      "\u001b[A\n",
      "\u001b[A\n",
      "\u001b[A\n",
      "\u001b[A\n",
      "\u001b[A\n",
      "\u001b[A\n",
      "\u001b[A\n",
      "\u001b[A\n",
      "\u001b[A\n",
      "\u001b[A\n",
      "\u001b[A\n",
      "\u001b[A\n",
      "\u001b[A\n",
      "\u001b[A\n",
      "\u001b[A\n",
      "\u001b[A\n",
      "\u001b[A\n",
      "\u001b[A\n",
      "\u001b[A\n",
      "\u001b[A\n",
      "\u001b[A\n",
      "\u001b[A\n",
      "\u001b[A\n",
      "\u001b[A\n",
      "\u001b[A\n",
      "\u001b[A\n",
      "\u001b[A\n",
      "\u001b[A\n",
      "\u001b[A\n",
      "\u001b[A\n",
      "\u001b[A\n",
      "\u001b[A\n",
      "\u001b[A\n",
      "\u001b[A\n",
      "\u001b[A\n",
      "\u001b[A\n",
      "\u001b[A\n",
      "\u001b[A\n",
      "\u001b[A\n",
      "\u001b[A\n",
      "\u001b[A\n",
      "\u001b[A\n",
      "\u001b[A\n",
      "\u001b[A\n",
      "\u001b[A\n",
      "\u001b[A\n",
      "\u001b[A\n",
      "\u001b[A\n",
      "\u001b[A\n",
      "\u001b[A\n",
      "\u001b[A\n",
      "\u001b[A\n",
      "\u001b[A\n",
      "\u001b[A\n",
      "\u001b[A\n",
      "\u001b[A\n",
      "\u001b[A\n",
      "\u001b[A\n",
      "\u001b[A\n",
      "\u001b[A\n",
      "\u001b[A\n",
      "\u001b[A\n",
      "\u001b[A\n",
      "\u001b[A\n",
      "\u001b[A\n",
      "\u001b[A\n",
      "\u001b[A\n",
      "\u001b[A\n",
      "\u001b[A\n",
      "\u001b[A\n",
      "\u001b[A\n",
      "\u001b[A\n",
      "\u001b[A\n",
      "\u001b[A\n",
      "\u001b[A\n",
      "\u001b[A\n",
      "\u001b[A\n",
      "\u001b[A\n",
      "\u001b[A\n",
      "\u001b[A\n",
      "\u001b[A\n",
      "\u001b[A\n",
      "\u001b[A\n",
      "\u001b[A\n",
      "\u001b[A\n",
      "100%|██████████| 100/100 [02:41<00:00,  1.61s/it]\n"
     ]
    },
    {
     "name": "stdout",
     "output_type": "stream",
     "text": [
      "For IQR: 0.99\n"
     ]
    },
    {
     "name": "stderr",
     "output_type": "stream",
     "text": [
      "\n",
      "\u001b[A\n",
      "\u001b[A\n",
      "\u001b[A\n",
      "\u001b[A\n",
      "\u001b[A\n",
      "\u001b[A\n",
      "\u001b[A\n",
      "\u001b[A\n",
      "\u001b[A\n",
      "\u001b[A\n",
      "\u001b[A\n",
      "\u001b[A\n",
      "\u001b[A\n",
      "\u001b[A\n",
      "\u001b[A\n",
      "\u001b[A\n",
      "\u001b[A\n",
      "\u001b[A\n",
      "\u001b[A\n",
      "\u001b[A\n",
      "\u001b[A\n",
      "\u001b[A\n",
      "\u001b[A\n",
      "\u001b[A\n",
      "\u001b[A\n",
      "\u001b[A\n",
      "\u001b[A\n",
      "\u001b[A\n",
      "\u001b[A\n",
      "\u001b[A\n",
      "\u001b[A\n",
      "\u001b[A\n",
      "\u001b[A\n",
      "\u001b[A\n",
      "\u001b[A\n",
      "\u001b[A\n",
      "\u001b[A\n",
      "\u001b[A\n",
      "\u001b[A\n",
      "\u001b[A\n",
      "\u001b[A\n",
      "\u001b[A\n",
      "\u001b[A\n",
      "\u001b[A\n",
      "\u001b[A\n",
      "\u001b[A\n",
      "\u001b[A\n",
      "\u001b[A\n",
      "\u001b[A\n",
      "\u001b[A\n",
      "\u001b[A\n",
      "\u001b[A\n",
      "\u001b[A\n",
      "\u001b[A\n",
      "\u001b[A\n",
      "\u001b[A\n",
      "\u001b[A\n",
      "\u001b[A\n",
      "\u001b[A\n",
      "\u001b[A\n",
      "\u001b[A\n",
      "\u001b[A\n",
      "\u001b[A\n",
      "\u001b[A\n",
      "\u001b[A\n",
      "\u001b[A\n",
      "\u001b[A\n",
      "\u001b[A\n",
      "\u001b[A\n",
      "\u001b[A\n",
      "\u001b[A\n",
      "\u001b[A\n",
      "\u001b[A\n",
      "\u001b[A\n",
      "\u001b[A\n",
      "\u001b[A\n",
      "\u001b[A\n",
      "\u001b[A\n",
      "\u001b[A\n",
      "\u001b[A\n",
      "\u001b[A\n",
      "\u001b[A\n",
      "\u001b[A\n",
      "\u001b[A\n",
      "\u001b[A\n",
      "\u001b[A\n",
      "\u001b[A\n",
      "\u001b[A\n",
      "\u001b[A\n",
      "\u001b[A\n",
      "\u001b[A\n",
      "\u001b[A\n",
      "\u001b[A\n",
      "\u001b[A\n",
      "\u001b[A\n",
      "\u001b[A\n",
      "\u001b[A\n",
      "\u001b[A\n",
      "\u001b[A\n",
      "\u001b[A\n",
      "100%|██████████| 100/100 [02:35<00:00,  1.55s/it]"
     ]
    },
    {
     "name": "stdout",
     "output_type": "stream",
     "text": [
      "For Entropy: 0.25\n"
     ]
    },
    {
     "name": "stderr",
     "output_type": "stream",
     "text": [
      "\n"
     ]
    }
   ],
   "source": [
    "evaluate_all(norm)"
   ]
  },
  {
   "cell_type": "markdown",
   "metadata": {},
   "source": [
    "##### Normal(5, 1) Distribution"
   ]
  },
  {
   "cell_type": "code",
   "execution_count": 36,
   "metadata": {},
   "outputs": [
    {
     "name": "stdout",
     "output_type": "stream",
     "text": [
      "*** BOOTSTRAP CONFIDENCE INTERVALS ***\n",
      "For Mean: [4.54407847 5.86331687]\n",
      "For Median: [5.19154826 5.58311259]\n",
      "For IQR: [0.43862485 2.50004286]\n"
     ]
    },
    {
     "name": "stderr",
     "output_type": "stream",
     "text": [
      "/var/folders/mg/l90d6s9536n6mfzjbqgrxffm0000gn/T/ipykernel_14340/184846182.py:8: RuntimeWarning: divide by zero encountered in log\n",
      "  return np.ma.masked_invalid(-np.log([probs[np.argmax(bin_edges >= x) - 1] for x in ecdf.cdf_func.x[1:]])).mean()\n"
     ]
    },
    {
     "name": "stdout",
     "output_type": "stream",
     "text": [
      "For Entropy: [0.69228039 1.20404541]\n",
      "\n",
      "*** TRUE PARAMETER VALUES ***\n",
      "For Mean: 5.0\n",
      "For Median: 5.0\n",
      "For IQR: 1.3489795003921632\n",
      "For Entropy: 1.4189385332046727\n",
      "\n",
      "*** COVERAGE PROBABILITIES ***\n"
     ]
    },
    {
     "name": "stderr",
     "output_type": "stream",
     "text": [
      "\n",
      "\u001b[A\n",
      "\u001b[A\n",
      "\u001b[A\n",
      "\u001b[A\n",
      "\u001b[A\n",
      "\u001b[A\n",
      "\u001b[A\n",
      "\u001b[A\n",
      "\u001b[A\n",
      "\u001b[A\n",
      "\u001b[A\n",
      "\u001b[A\n",
      "\u001b[A\n",
      "\u001b[A\n",
      "\u001b[A\n",
      " 75%|███████▌  | 75/100 [23:37<07:52, 18.90s/it]\n",
      "\n",
      "\u001b[A\n",
      "\u001b[A\n",
      "\u001b[A\n",
      "\u001b[A\n",
      "\u001b[A\n",
      "\u001b[A\n",
      "\u001b[A\n",
      "\u001b[A\n",
      "\u001b[A\n",
      "\u001b[A\n",
      "\u001b[A\n",
      "\u001b[A\n",
      "\u001b[A\n",
      "\u001b[A\n",
      "\u001b[A\n",
      "\u001b[A\n",
      "\u001b[A\n",
      "\u001b[A\n",
      "\u001b[A\n",
      "\u001b[A\n",
      "\u001b[A\n",
      "\u001b[A\n",
      "\u001b[A\n",
      "\u001b[A\n",
      "\u001b[A\n",
      "\u001b[A\n",
      "\u001b[A\n",
      "\u001b[A\n",
      "\u001b[A\n",
      "\u001b[A\n",
      "\u001b[A\n",
      "\u001b[A\n",
      "\u001b[A\n",
      "\u001b[A\n",
      "\u001b[A\n",
      "\u001b[A\n",
      "\u001b[A\n",
      "\u001b[A\n",
      "\u001b[A\n",
      "\u001b[A\n",
      "\u001b[A\n",
      "\u001b[A\n",
      "\u001b[A\n",
      "\u001b[A\n",
      "\u001b[A\n",
      "\u001b[A\n",
      "\u001b[A\n",
      "\u001b[A\n",
      "\u001b[A\n",
      "\u001b[A\n",
      "\u001b[A\n",
      "\u001b[A\n",
      "\u001b[A\n",
      "\u001b[A\n",
      "\u001b[A\n",
      "\u001b[A\n",
      "\u001b[A\n",
      "\u001b[A\n",
      "\u001b[A\n",
      "\u001b[A\n",
      "\u001b[A\n",
      "\u001b[A\n",
      "\u001b[A\n",
      "\u001b[A\n",
      "\u001b[A\n",
      "\u001b[A\n",
      "\u001b[A\n",
      "\u001b[A\n",
      "\u001b[A\n",
      "\u001b[A\n",
      "\u001b[A\n",
      "\u001b[A\n",
      "\u001b[A\n",
      "\u001b[A\n",
      "\u001b[A\n",
      "\u001b[A\n",
      "\u001b[A\n",
      "\u001b[A\n",
      "\u001b[A\n",
      "\u001b[A\n",
      "\u001b[A\n",
      "\u001b[A\n",
      "\u001b[A\n",
      "\u001b[A\n",
      "100%|██████████| 100/100 [02:33<00:00,  1.53s/it]\n"
     ]
    },
    {
     "name": "stdout",
     "output_type": "stream",
     "text": [
      "For Mean: 0.9\n"
     ]
    },
    {
     "name": "stderr",
     "output_type": "stream",
     "text": [
      "100%|██████████| 100/100 [02:41<00:00,  1.62s/it]\n"
     ]
    },
    {
     "name": "stdout",
     "output_type": "stream",
     "text": [
      "For Median: 0.89\n"
     ]
    },
    {
     "name": "stderr",
     "output_type": "stream",
     "text": [
      "100%|██████████| 100/100 [02:38<00:00,  1.59s/it]\n"
     ]
    },
    {
     "name": "stdout",
     "output_type": "stream",
     "text": [
      "For IQR: 0.99\n"
     ]
    },
    {
     "name": "stderr",
     "output_type": "stream",
     "text": [
      "100%|██████████| 100/100 [02:33<00:00,  1.53s/it]"
     ]
    },
    {
     "name": "stdout",
     "output_type": "stream",
     "text": [
      "For Entropy: 0.21\n"
     ]
    },
    {
     "name": "stderr",
     "output_type": "stream",
     "text": [
      "\n"
     ]
    }
   ],
   "source": [
    "evaluate_all(norm, loc=5)"
   ]
  },
  {
   "cell_type": "markdown",
   "metadata": {},
   "source": [
    "##### Normal(5, 9) Distribution"
   ]
  },
  {
   "cell_type": "code",
   "execution_count": 37,
   "metadata": {},
   "outputs": [
    {
     "name": "stdout",
     "output_type": "stream",
     "text": [
      "*** BOOTSTRAP CONFIDENCE INTERVALS ***\n",
      "For Mean: [2.90109661 4.83245616]\n",
      "For Median: [3.54515963 7.51430283]\n",
      "For IQR: [1.93222055 6.94140671]\n"
     ]
    },
    {
     "name": "stderr",
     "output_type": "stream",
     "text": [
      "/var/folders/mg/l90d6s9536n6mfzjbqgrxffm0000gn/T/ipykernel_14340/184846182.py:8: RuntimeWarning: divide by zero encountered in log\n",
      "  return np.ma.masked_invalid(-np.log([probs[np.argmax(bin_edges >= x) - 1] for x in ecdf.cdf_func.x[1:]])).mean()\n"
     ]
    },
    {
     "name": "stdout",
     "output_type": "stream",
     "text": [
      "For Entropy: [2.03881469 2.43126985]\n",
      "\n",
      "*** TRUE PARAMETER VALUES ***\n",
      "For Mean: 5.0\n",
      "For Median: 5.0\n",
      "For IQR: 4.046938501176491\n",
      "For Entropy: 2.5175508218727822\n",
      "\n",
      "*** COVERAGE PROBABILITIES ***\n"
     ]
    },
    {
     "name": "stderr",
     "output_type": "stream",
     "text": [
      "100%|██████████| 100/100 [02:37<00:00,  1.58s/it]\n"
     ]
    },
    {
     "name": "stdout",
     "output_type": "stream",
     "text": [
      "For Mean: 0.91\n"
     ]
    },
    {
     "name": "stderr",
     "output_type": "stream",
     "text": [
      "100%|██████████| 100/100 [02:47<00:00,  1.68s/it]\n"
     ]
    },
    {
     "name": "stdout",
     "output_type": "stream",
     "text": [
      "For Median: 0.88\n"
     ]
    },
    {
     "name": "stderr",
     "output_type": "stream",
     "text": [
      "100%|██████████| 100/100 [02:44<00:00,  1.64s/it]\n"
     ]
    },
    {
     "name": "stdout",
     "output_type": "stream",
     "text": [
      "For IQR: 0.97\n"
     ]
    },
    {
     "name": "stderr",
     "output_type": "stream",
     "text": [
      "100%|██████████| 100/100 [02:38<00:00,  1.58s/it]"
     ]
    },
    {
     "name": "stdout",
     "output_type": "stream",
     "text": [
      "For Entropy: 0.23\n"
     ]
    },
    {
     "name": "stderr",
     "output_type": "stream",
     "text": [
      "\n"
     ]
    }
   ],
   "source": [
    "evaluate_all(norm, loc=5, scale=3)"
   ]
  },
  {
   "cell_type": "markdown",
   "metadata": {},
   "source": [
    "##### Cauchy(5, 9) Distribution"
   ]
  },
  {
   "cell_type": "code",
   "execution_count": 38,
   "metadata": {},
   "outputs": [
    {
     "name": "stdout",
     "output_type": "stream",
     "text": [
      "*** BOOTSTRAP CONFIDENCE INTERVALS ***\n",
      "For Mean: [ 2.57912799 21.31019478]\n",
      "For Median: [3.89168833 8.7548592 ]\n",
      "For IQR: [ 2.86052313 20.96148041]\n"
     ]
    },
    {
     "name": "stderr",
     "output_type": "stream",
     "text": [
      "/var/folders/mg/l90d6s9536n6mfzjbqgrxffm0000gn/T/ipykernel_14340/184846182.py:8: RuntimeWarning: divide by zero encountered in log\n",
      "  return np.ma.masked_invalid(-np.log([probs[np.argmax(bin_edges >= x) - 1] for x in ecdf.cdf_func.x[1:]])).mean()\n"
     ]
    },
    {
     "name": "stdout",
     "output_type": "stream",
     "text": [
      "For Entropy: [2.32940523 4.34997666]\n",
      "\n",
      "*** TRUE PARAMETER VALUES ***\n",
      "For Mean: nan\n",
      "For Median: 5.0\n",
      "For IQR: 6.0\n",
      "For Entropy: 3.6296365356374007\n",
      "\n",
      "*** COVERAGE PROBABILITIES ***\n"
     ]
    },
    {
     "name": "stderr",
     "output_type": "stream",
     "text": [
      "100%|██████████| 100/100 [02:47<00:00,  1.67s/it]\n"
     ]
    },
    {
     "name": "stdout",
     "output_type": "stream",
     "text": [
      "For Mean: 0.0\n"
     ]
    },
    {
     "name": "stderr",
     "output_type": "stream",
     "text": [
      "100%|██████████| 100/100 [02:59<00:00,  1.79s/it]\n"
     ]
    },
    {
     "name": "stdout",
     "output_type": "stream",
     "text": [
      "For Median: 0.9\n"
     ]
    },
    {
     "name": "stderr",
     "output_type": "stream",
     "text": [
      "100%|██████████| 100/100 [02:54<00:00,  1.74s/it]\n"
     ]
    },
    {
     "name": "stdout",
     "output_type": "stream",
     "text": [
      "For IQR: 0.96\n"
     ]
    },
    {
     "name": "stderr",
     "output_type": "stream",
     "text": [
      "100%|██████████| 100/100 [02:45<00:00,  1.66s/it]"
     ]
    },
    {
     "name": "stdout",
     "output_type": "stream",
     "text": [
      "For Entropy: 0.36\n"
     ]
    },
    {
     "name": "stderr",
     "output_type": "stream",
     "text": [
      "\n"
     ]
    }
   ],
   "source": [
    "evaluate_all(cauchy, loc=5, scale=3)"
   ]
  },
  {
   "cell_type": "markdown",
   "metadata": {},
   "source": [
    "##### 1/2 * Normal(5, 1) + 1/2 * Cauchy(10, 1) Distribution"
   ]
  },
  {
   "cell_type": "code",
   "execution_count": 39,
   "metadata": {},
   "outputs": [
    {
     "name": "stdout",
     "output_type": "stream",
     "text": [
      "*** BOOTSTRAP CONFIDENCE INTERVALS ***\n",
      "For Mean: [ 7.44585701 11.71170629]\n",
      "For Median: [4.95979594 9.36897526]\n",
      "For IQR: [4.02626404 6.73763352]\n"
     ]
    },
    {
     "name": "stderr",
     "output_type": "stream",
     "text": [
      "/var/folders/mg/l90d6s9536n6mfzjbqgrxffm0000gn/T/ipykernel_14340/184846182.py:8: RuntimeWarning: divide by zero encountered in log\n",
      "  return np.ma.masked_invalid(-np.log([probs[np.argmax(bin_edges >= x) - 1] for x in ecdf.cdf_func.x[1:]])).mean()\n"
     ]
    },
    {
     "name": "stdout",
     "output_type": "stream",
     "text": [
      "For Entropy: [1.8393712 2.6346163]\n",
      "\n",
      "*** TRUE PARAMETER VALUES ***\n",
      "For Mean: 7.500000000000184\n",
      "For Median: 6.368752841046282\n",
      "For IQR: 5.153524566844071\n",
      "For Entropy: 2.6268575248912187\n",
      "\n",
      "*** COVERAGE PROBABILITIES ***\n"
     ]
    },
    {
     "name": "stderr",
     "output_type": "stream",
     "text": [
      "100%|██████████| 100/100 [02:41<00:00,  1.61s/it]\n"
     ]
    },
    {
     "name": "stdout",
     "output_type": "stream",
     "text": [
      "For Mean: 0.91\n"
     ]
    },
    {
     "name": "stderr",
     "output_type": "stream",
     "text": [
      "100%|██████████| 100/100 [02:51<00:00,  1.71s/it]\n"
     ]
    },
    {
     "name": "stdout",
     "output_type": "stream",
     "text": [
      "For Median: 0.91\n"
     ]
    },
    {
     "name": "stderr",
     "output_type": "stream",
     "text": [
      "100%|██████████| 100/100 [02:48<00:00,  1.68s/it]\n"
     ]
    },
    {
     "name": "stdout",
     "output_type": "stream",
     "text": [
      "For IQR: 0.94\n"
     ]
    },
    {
     "name": "stderr",
     "output_type": "stream",
     "text": [
      "100%|██████████| 100/100 [02:41<00:00,  1.61s/it]"
     ]
    },
    {
     "name": "stdout",
     "output_type": "stream",
     "text": [
      "For Entropy: 0.39\n"
     ]
    },
    {
     "name": "stderr",
     "output_type": "stream",
     "text": [
      "\n"
     ]
    }
   ],
   "source": [
    "evaluate_all(CustomCDFRV(lambda x: (norm.cdf(x, loc=5, scale=1) + cauchy.cdf(x, loc=10, scale=1))/2))"
   ]
  },
  {
   "cell_type": "markdown",
   "metadata": {},
   "source": [
    "#### Smoothed Bootstrap"
   ]
  },
  {
   "cell_type": "markdown",
   "metadata": {},
   "source": [
    "I used the Scott's Rule of Thumb to choose the bandwidth i.e. \n",
    "$$h = 3.49\\times s_n\\times n^{\\frac{-1}{3}}$$\n",
    "and use Gaussian Kernel in our Kernel Density Estimator for the pdf i.e.\n",
    "$$\\hat{f}_{KDE}(x) = \\frac{1}{nh}\\sum_{i=1}^n K(\\frac{x - X_i}{h})$$\n",
    "where $\\{X_i\\}_{i=1}^n$ is our sample,\n",
    "$$K(y) = \\frac{1}{2\\pi}\\exp{-\\frac{y^2}{2}}$$\n",
    "\n",
    "The resampled data $\\{X_i^*\\}_{i=1}^n \\sim \\hat{f}_{KDE}$. Since, the estimator for the pdf is available in this case we don't use histogram method in this case."
   ]
  },
  {
   "cell_type": "code",
   "execution_count": 75,
   "metadata": {},
   "outputs": [],
   "source": [
    "def bw_scott(data: np.ndarray):\n",
    "    std_dev = np.std(data)\n",
    "    n = len(data)\n",
    "    return 3.49 * std_dev * n ** (-0.333)\n",
    "\n",
    "def gaussian_kernel(u):\n",
    "    return 1 / np.sqrt(2 * np.pi) * np.exp(-1 / 2 * u * u)\n",
    "\n",
    "class KDE:\n",
    "    \n",
    "    def __init__(self, data):\n",
    "        self.data = data\n",
    "        self.h = bw_scott(data)\n",
    "    \n",
    "    def eval(self, x):\n",
    "        if np.isscalar(x):\n",
    "            return np.mean(gaussian_kernel((x - self.data) / self.h)) / self.h\n",
    "        result = np.zeros_like(x)\n",
    "        for i in range(len(result)):\n",
    "            result[i] = np.mean(gaussian_kernel((x[i] - self.data) / self.h)) / self.h\n",
    "        return result"
   ]
  },
  {
   "cell_type": "code",
   "execution_count": 76,
   "metadata": {},
   "outputs": [],
   "source": [
    "def smoothed_bootstrapping(RV, statistic, sample_size: int = SAMPLE_SIZE, num_bootstraps: int = NUM_BOOTSTRAPS, resample_statistic = None, **kwargs):\n",
    "\n",
    "    # get the sample\n",
    "    sample_data = RV.rvs(size=sample_size, **kwargs)\n",
    "\n",
    "    # gets the KDE for the sample\n",
    "    net_ecdf_rv = CustomPDFRV(KDE(sample_data).eval, np.min(sample_data), np.max(sample_data))\n",
    "    \n",
    "    # get point estimate\n",
    "    point_estimate = statistic(net_ecdf_rv)\n",
    "\n",
    "    # gets the resampled data\n",
    "    resampled_data = np.array([net_ecdf_rv.rvs(size=sample_size) for _ in range(num_bootstraps)])\n",
    "\n",
    "    # gets the ECDF of each resampled data\n",
    "    # ecdf_data = [CustomPDFRV(KDE(bootstrap_sample).eval) for bootstrap_sample in resampled_data] # --> Taking too much time\n",
    "    ecdf_data = [CustomCDFRV(ECDF(bootstrap_sample), np.min(bootstrap_sample), np.max(bootstrap_sample)) for bootstrap_sample in resampled_data]\n",
    "\n",
    "    # gets the resample data statistic\n",
    "    if resample_statistic is None:\n",
    "        resampled_statistics = np.array([np.sqrt(sample_size) * (statistic(ecdf) - point_estimate) for ecdf in ecdf_data])\n",
    "    else:\n",
    "        resampled_statistics = np.array([np.sqrt(sample_size) * (resample_statistic(ecdf) - point_estimate) for ecdf in ecdf_data])\n",
    "\n",
    "    # gets the resampled data statistic's ecdf\n",
    "    resampled_statistic_ecdf = CustomCDFRV(ECDF(resampled_statistics))\n",
    "\n",
    "    return np.array([point_estimate + resampled_statistic_ecdf.ppf(0.025)/np.sqrt(sample_size), point_estimate + \n",
    "            resampled_statistic_ecdf.ppf(0.975)/np.sqrt(sample_size)])"
   ]
  },
  {
   "cell_type": "code",
   "execution_count": 77,
   "metadata": {},
   "outputs": [],
   "source": [
    "def evaluate_all(RV, **kwargs):\n",
    "    print('*** BOOTSTRAP CONFIDENCE INTERVALS ***')\n",
    "    print('For Mean:', smoothed_bootstrapping(RV, lambda ecdf: ecdf.mean(), resample_statistic= lambda ecdf: ecdf.cdf_func.x[1:].mean(), **kwargs))\n",
    "    print('For Median:', smoothed_bootstrapping(RV, lambda ecdf: ecdf.median(), **kwargs))\n",
    "    print('For IQR:', smoothed_bootstrapping(RV, lambda ecdf: ecdf.ppf(3/4) - ecdf.ppf(1/4), **kwargs))\n",
    "    print('For Entropy:', smoothed_bootstrapping(RV, lambda ecdf: ecdf.entropy(), resample_statistic=emp_entropy, **kwargs))\n",
    "\n",
    "    true_mean = RV.mean(**kwargs)\n",
    "    true_median = RV.median(**kwargs)\n",
    "    true_iqr = RV.ppf(3/4, **kwargs) - RV.ppf(1/4, **kwargs)\n",
    "    true_entropy = RV.entropy(**kwargs)\n",
    "\n",
    "    print()\n",
    "    print('*** TRUE PARAMETER VALUES ***')\n",
    "    print('For Mean:', true_mean)\n",
    "    print('For Median:', true_median)\n",
    "    print('For IQR:', true_iqr)\n",
    "    print('For Entropy:', true_entropy)\n",
    "\n",
    "    print()\n",
    "    print('*** COVERAGE PROBABILITIES ***')\n",
    "    print('For Mean:', np.mean([np.sum(smoothed_bootstrapping(RV, lambda ecdf: ecdf.mean(), resample_statistic= lambda ecdf: ecdf.cdf_func.x[1:].mean(), **kwargs) <= true_mean) == 1 for _ in tqdm(range(COVERAGE_PROB_ITERS))]))\n",
    "    print('For Median:', np.mean([np.sum(smoothed_bootstrapping(RV, lambda ecdf: ecdf.median(), **kwargs) <= true_median) == 1 for _ in tqdm(range(COVERAGE_PROB_ITERS))]))\n",
    "    print('For IQR:', np.mean([np.sum(smoothed_bootstrapping(RV, lambda ecdf: ecdf.ppf(3/4) - ecdf.ppf(1/4), **kwargs) <= true_iqr) == 1 for _ in tqdm(range(COVERAGE_PROB_ITERS))]))\n",
    "    print('For Entropy:', np.mean([np.sum(smoothed_bootstrapping(RV, lambda ecdf: ecdf.entropy(), resample_statistic=emp_entropy, **kwargs) <= true_entropy) == 1 for _ in tqdm(range(COVERAGE_PROB_ITERS))]))"
   ]
  },
  {
   "cell_type": "markdown",
   "metadata": {},
   "source": [
    "##### Normal(0, 1) Distribution"
   ]
  },
  {
   "cell_type": "code",
   "execution_count": 78,
   "metadata": {},
   "outputs": [
    {
     "name": "stdout",
     "output_type": "stream",
     "text": [
      "*** BOOTSTRAP CONFIDENCE INTERVALS ***\n",
      "For Mean: [0.37956001 1.44032119]\n",
      "For Median: [-0.7182745   1.72252339]\n"
     ]
    },
    {
     "name": "stderr",
     "output_type": "stream",
     "text": [
      "/var/folders/mg/l90d6s9536n6mfzjbqgrxffm0000gn/T/ipykernel_14340/184846182.py:8: RuntimeWarning: divide by zero encountered in log\n",
      "  return np.ma.masked_invalid(-np.log([probs[np.argmax(bin_edges >= x) - 1] for x in ecdf.cdf_func.x[1:]])).mean()\n"
     ]
    },
    {
     "name": "stdout",
     "output_type": "stream",
     "text": [
      "For IQR: [1.31442342 3.03179664]\n",
      "For Entropy: [1.0932311  1.47212776]\n",
      "\n",
      "*** TRUE PARAMETER VALUES ***\n",
      "For Mean: 0.0\n",
      "For Median: 0.0\n",
      "For IQR: 1.3489795003921634\n",
      "For Entropy: 1.4189385332046727\n",
      "\n",
      "*** COVERAGE PROBABILITIES ***\n"
     ]
    },
    {
     "name": "stderr",
     "output_type": "stream",
     "text": [
      "100%|██████████| 100/100 [07:58<00:00,  4.78s/it]\n"
     ]
    },
    {
     "name": "stdout",
     "output_type": "stream",
     "text": [
      "For Mean: 0.51\n"
     ]
    },
    {
     "name": "stderr",
     "output_type": "stream",
     "text": [
      "  8%|▊         | 8/100 [1:40:20<19:13:58, 752.59s/it]\n",
      "100%|██████████| 100/100 [04:21<00:00,  2.61s/it]\n"
     ]
    },
    {
     "name": "stdout",
     "output_type": "stream",
     "text": [
      "For Median: 0.68\n"
     ]
    },
    {
     "name": "stderr",
     "output_type": "stream",
     "text": [
      "100%|██████████| 100/100 [04:18<00:00,  2.58s/it]\n"
     ]
    },
    {
     "name": "stdout",
     "output_type": "stream",
     "text": [
      "For IQR: 0.76\n"
     ]
    },
    {
     "name": "stderr",
     "output_type": "stream",
     "text": [
      "100%|██████████| 100/100 [04:33<00:00,  2.73s/it]"
     ]
    },
    {
     "name": "stdout",
     "output_type": "stream",
     "text": [
      "For Entropy: 0.22\n"
     ]
    },
    {
     "name": "stderr",
     "output_type": "stream",
     "text": [
      "\n"
     ]
    }
   ],
   "source": [
    "evaluate_all(norm)"
   ]
  },
  {
   "cell_type": "markdown",
   "metadata": {},
   "source": [
    "##### Normal(5, 1) Distribution"
   ]
  },
  {
   "cell_type": "code",
   "execution_count": 79,
   "metadata": {},
   "outputs": [
    {
     "name": "stdout",
     "output_type": "stream",
     "text": [
      "*** BOOTSTRAP CONFIDENCE INTERVALS ***\n",
      "For Mean: [4.9678375  6.12508014]\n",
      "For Median: [4.28781672 6.58786756]\n",
      "For IQR: [1.39739952 2.8337963 ]\n"
     ]
    },
    {
     "name": "stderr",
     "output_type": "stream",
     "text": [
      "/var/folders/mg/l90d6s9536n6mfzjbqgrxffm0000gn/T/ipykernel_14340/184846182.py:8: RuntimeWarning: divide by zero encountered in log\n",
      "  return np.ma.masked_invalid(-np.log([probs[np.argmax(bin_edges >= x) - 1] for x in ecdf.cdf_func.x[1:]])).mean()\n"
     ]
    },
    {
     "name": "stdout",
     "output_type": "stream",
     "text": [
      "For Entropy: [0.07039372 0.93735559]\n",
      "\n",
      "*** TRUE PARAMETER VALUES ***\n",
      "For Mean: 5.0\n",
      "For Median: 5.0\n",
      "For IQR: 1.3489795003921632\n",
      "For Entropy: 1.4189385332046727\n",
      "\n",
      "*** COVERAGE PROBABILITIES ***\n"
     ]
    },
    {
     "name": "stderr",
     "output_type": "stream",
     "text": [
      "100%|██████████| 100/100 [07:28<00:00,  4.49s/it]\n"
     ]
    },
    {
     "name": "stdout",
     "output_type": "stream",
     "text": [
      "For Mean: 0.54\n"
     ]
    },
    {
     "name": "stderr",
     "output_type": "stream",
     "text": [
      "100%|██████████| 100/100 [04:20<00:00,  2.60s/it]\n"
     ]
    },
    {
     "name": "stdout",
     "output_type": "stream",
     "text": [
      "For Median: 0.7\n"
     ]
    },
    {
     "name": "stderr",
     "output_type": "stream",
     "text": [
      "100%|██████████| 100/100 [04:10<00:00,  2.51s/it]\n"
     ]
    },
    {
     "name": "stdout",
     "output_type": "stream",
     "text": [
      "For IQR: 0.66\n"
     ]
    },
    {
     "name": "stderr",
     "output_type": "stream",
     "text": [
      "100%|██████████| 100/100 [04:35<00:00,  2.76s/it]"
     ]
    },
    {
     "name": "stdout",
     "output_type": "stream",
     "text": [
      "For Entropy: 0.21\n"
     ]
    },
    {
     "name": "stderr",
     "output_type": "stream",
     "text": [
      "\n"
     ]
    }
   ],
   "source": [
    "evaluate_all(norm, loc=5)"
   ]
  },
  {
   "cell_type": "markdown",
   "metadata": {},
   "source": [
    "##### Normal(5, 9) Distribution"
   ]
  },
  {
   "cell_type": "code",
   "execution_count": 80,
   "metadata": {},
   "outputs": [
    {
     "name": "stdout",
     "output_type": "stream",
     "text": [
      "*** BOOTSTRAP CONFIDENCE INTERVALS ***\n",
      "For Mean: [ 7.55407692 11.74544434]\n",
      "For Median: [3.45838119 8.2923204 ]\n",
      "For IQR: [ 4.60340286 12.94796089]\n"
     ]
    },
    {
     "name": "stderr",
     "output_type": "stream",
     "text": [
      "/var/folders/mg/l90d6s9536n6mfzjbqgrxffm0000gn/T/ipykernel_14340/184846182.py:8: RuntimeWarning: divide by zero encountered in log\n",
      "  return np.ma.masked_invalid(-np.log([probs[np.argmax(bin_edges >= x) - 1] for x in ecdf.cdf_func.x[1:]])).mean()\n"
     ]
    },
    {
     "name": "stdout",
     "output_type": "stream",
     "text": [
      "For Entropy: [1.83713415 2.24751639]\n",
      "\n",
      "*** TRUE PARAMETER VALUES ***\n",
      "For Mean: 5.0\n",
      "For Median: 5.0\n",
      "For IQR: 4.046938501176491\n",
      "For Entropy: 2.5175508218727822\n",
      "\n",
      "*** COVERAGE PROBABILITIES ***\n"
     ]
    },
    {
     "name": "stderr",
     "output_type": "stream",
     "text": [
      "100%|██████████| 100/100 [07:46<00:00,  4.66s/it]\n"
     ]
    },
    {
     "name": "stdout",
     "output_type": "stream",
     "text": [
      "For Mean: 0.57\n"
     ]
    },
    {
     "name": "stderr",
     "output_type": "stream",
     "text": [
      "100%|██████████| 100/100 [04:25<00:00,  2.66s/it]\n"
     ]
    },
    {
     "name": "stdout",
     "output_type": "stream",
     "text": [
      "For Median: 0.84\n"
     ]
    },
    {
     "name": "stderr",
     "output_type": "stream",
     "text": [
      "100%|██████████| 100/100 [04:18<00:00,  2.58s/it]\n"
     ]
    },
    {
     "name": "stdout",
     "output_type": "stream",
     "text": [
      "For IQR: 0.79\n"
     ]
    },
    {
     "name": "stderr",
     "output_type": "stream",
     "text": [
      "100%|██████████| 100/100 [04:44<00:00,  2.84s/it]"
     ]
    },
    {
     "name": "stdout",
     "output_type": "stream",
     "text": [
      "For Entropy: 0.27\n"
     ]
    },
    {
     "name": "stderr",
     "output_type": "stream",
     "text": [
      "\n"
     ]
    }
   ],
   "source": [
    "evaluate_all(norm, loc=5, scale=3)"
   ]
  },
  {
   "cell_type": "markdown",
   "metadata": {},
   "source": [
    "##### Cauchy(5, 9) Distribution"
   ]
  },
  {
   "cell_type": "code",
   "execution_count": 82,
   "metadata": {},
   "outputs": [
    {
     "name": "stdout",
     "output_type": "stream",
     "text": [
      "*** BOOTSTRAP CONFIDENCE INTERVALS ***\n",
      "For Mean: [ 6.01155396 11.16804623]\n",
      "For Median: [ 4.09035856 26.41916247]\n",
      "For IQR: [128.86722781 314.50691924]\n"
     ]
    },
    {
     "name": "stderr",
     "output_type": "stream",
     "text": [
      "/var/folders/mg/l90d6s9536n6mfzjbqgrxffm0000gn/T/ipykernel_14340/184846182.py:8: RuntimeWarning: divide by zero encountered in log\n",
      "  return np.ma.masked_invalid(-np.log([probs[np.argmax(bin_edges >= x) - 1] for x in ecdf.cdf_func.x[1:]])).mean()\n"
     ]
    },
    {
     "name": "stdout",
     "output_type": "stream",
     "text": [
      "For Entropy: [4.16669986 4.4567505 ]\n",
      "\n",
      "*** TRUE PARAMETER VALUES ***\n",
      "For Mean: nan\n",
      "For Median: 5.0\n",
      "For IQR: 6.0\n",
      "For Entropy: 3.6296365356374007\n",
      "\n",
      "*** COVERAGE PROBABILITIES ***\n"
     ]
    },
    {
     "name": "stderr",
     "output_type": "stream",
     "text": []
    },
    {
     "ename": "KeyboardInterrupt",
     "evalue": "",
     "output_type": "error",
     "traceback": [
      "\u001b[0;31m---------------------------------------------------------------------------\u001b[0m",
      "\u001b[0;31mKeyboardInterrupt\u001b[0m                         Traceback (most recent call last)",
      "Cell \u001b[0;32mIn[82], line 1\u001b[0m\n\u001b[0;32m----> 1\u001b[0m \u001b[43mevaluate_all\u001b[49m\u001b[43m(\u001b[49m\u001b[43mcauchy\u001b[49m\u001b[43m,\u001b[49m\u001b[43m \u001b[49m\u001b[43mloc\u001b[49m\u001b[38;5;241;43m=\u001b[39;49m\u001b[38;5;241;43m5\u001b[39;49m\u001b[43m,\u001b[49m\u001b[43m \u001b[49m\u001b[43mscale\u001b[49m\u001b[38;5;241;43m=\u001b[39;49m\u001b[38;5;241;43m3\u001b[39;49m\u001b[43m)\u001b[49m\n",
      "Cell \u001b[0;32mIn[77], line 22\u001b[0m, in \u001b[0;36mevaluate_all\u001b[0;34m(RV, **kwargs)\u001b[0m\n\u001b[1;32m     20\u001b[0m \u001b[38;5;28mprint\u001b[39m()\n\u001b[1;32m     21\u001b[0m \u001b[38;5;28mprint\u001b[39m(\u001b[38;5;124m'\u001b[39m\u001b[38;5;124m*** COVERAGE PROBABILITIES ***\u001b[39m\u001b[38;5;124m'\u001b[39m)\n\u001b[0;32m---> 22\u001b[0m \u001b[38;5;28mprint\u001b[39m(\u001b[38;5;124m'\u001b[39m\u001b[38;5;124mFor Mean:\u001b[39m\u001b[38;5;124m'\u001b[39m, np\u001b[38;5;241m.\u001b[39mmean([np\u001b[38;5;241m.\u001b[39msum(smoothed_bootstrapping(RV, \u001b[38;5;28;01mlambda\u001b[39;00m ecdf: ecdf\u001b[38;5;241m.\u001b[39mmean(), resample_statistic\u001b[38;5;241m=\u001b[39m \u001b[38;5;28;01mlambda\u001b[39;00m ecdf: ecdf\u001b[38;5;241m.\u001b[39mcdf_func\u001b[38;5;241m.\u001b[39mx[\u001b[38;5;241m1\u001b[39m:]\u001b[38;5;241m.\u001b[39mmean(), \u001b[38;5;241m*\u001b[39m\u001b[38;5;241m*\u001b[39mkwargs) \u001b[38;5;241m<\u001b[39m\u001b[38;5;241m=\u001b[39m true_mean) \u001b[38;5;241m==\u001b[39m \u001b[38;5;241m1\u001b[39m \u001b[38;5;28;01mfor\u001b[39;00m _ \u001b[38;5;129;01min\u001b[39;00m tqdm(\u001b[38;5;28mrange\u001b[39m(COVERAGE_PROB_ITERS))]))\n\u001b[1;32m     23\u001b[0m \u001b[38;5;28mprint\u001b[39m(\u001b[38;5;124m'\u001b[39m\u001b[38;5;124mFor Median:\u001b[39m\u001b[38;5;124m'\u001b[39m, np\u001b[38;5;241m.\u001b[39mmean([np\u001b[38;5;241m.\u001b[39msum(smoothed_bootstrapping(RV, \u001b[38;5;28;01mlambda\u001b[39;00m ecdf: ecdf\u001b[38;5;241m.\u001b[39mmedian(), \u001b[38;5;241m*\u001b[39m\u001b[38;5;241m*\u001b[39mkwargs) \u001b[38;5;241m<\u001b[39m\u001b[38;5;241m=\u001b[39m true_median) \u001b[38;5;241m==\u001b[39m \u001b[38;5;241m1\u001b[39m \u001b[38;5;28;01mfor\u001b[39;00m _ \u001b[38;5;129;01min\u001b[39;00m tqdm(\u001b[38;5;28mrange\u001b[39m(COVERAGE_PROB_ITERS))]))\n\u001b[1;32m     24\u001b[0m \u001b[38;5;28mprint\u001b[39m(\u001b[38;5;124m'\u001b[39m\u001b[38;5;124mFor IQR:\u001b[39m\u001b[38;5;124m'\u001b[39m, np\u001b[38;5;241m.\u001b[39mmean([np\u001b[38;5;241m.\u001b[39msum(smoothed_bootstrapping(RV, \u001b[38;5;28;01mlambda\u001b[39;00m ecdf: ecdf\u001b[38;5;241m.\u001b[39mppf(\u001b[38;5;241m3\u001b[39m\u001b[38;5;241m/\u001b[39m\u001b[38;5;241m4\u001b[39m) \u001b[38;5;241m-\u001b[39m ecdf\u001b[38;5;241m.\u001b[39mppf(\u001b[38;5;241m1\u001b[39m\u001b[38;5;241m/\u001b[39m\u001b[38;5;241m4\u001b[39m), \u001b[38;5;241m*\u001b[39m\u001b[38;5;241m*\u001b[39mkwargs) \u001b[38;5;241m<\u001b[39m\u001b[38;5;241m=\u001b[39m true_iqr) \u001b[38;5;241m==\u001b[39m \u001b[38;5;241m1\u001b[39m \u001b[38;5;28;01mfor\u001b[39;00m _ \u001b[38;5;129;01min\u001b[39;00m tqdm(\u001b[38;5;28mrange\u001b[39m(COVERAGE_PROB_ITERS))]))\n",
      "Cell \u001b[0;32mIn[77], line 22\u001b[0m, in \u001b[0;36m<listcomp>\u001b[0;34m(.0)\u001b[0m\n\u001b[1;32m     20\u001b[0m \u001b[38;5;28mprint\u001b[39m()\n\u001b[1;32m     21\u001b[0m \u001b[38;5;28mprint\u001b[39m(\u001b[38;5;124m'\u001b[39m\u001b[38;5;124m*** COVERAGE PROBABILITIES ***\u001b[39m\u001b[38;5;124m'\u001b[39m)\n\u001b[0;32m---> 22\u001b[0m \u001b[38;5;28mprint\u001b[39m(\u001b[38;5;124m'\u001b[39m\u001b[38;5;124mFor Mean:\u001b[39m\u001b[38;5;124m'\u001b[39m, np\u001b[38;5;241m.\u001b[39mmean([np\u001b[38;5;241m.\u001b[39msum(\u001b[43msmoothed_bootstrapping\u001b[49m\u001b[43m(\u001b[49m\u001b[43mRV\u001b[49m\u001b[43m,\u001b[49m\u001b[43m \u001b[49m\u001b[38;5;28;43;01mlambda\u001b[39;49;00m\u001b[43m \u001b[49m\u001b[43mecdf\u001b[49m\u001b[43m:\u001b[49m\u001b[43m \u001b[49m\u001b[43mecdf\u001b[49m\u001b[38;5;241;43m.\u001b[39;49m\u001b[43mmean\u001b[49m\u001b[43m(\u001b[49m\u001b[43m)\u001b[49m\u001b[43m,\u001b[49m\u001b[43m \u001b[49m\u001b[43mresample_statistic\u001b[49m\u001b[38;5;241;43m=\u001b[39;49m\u001b[43m \u001b[49m\u001b[38;5;28;43;01mlambda\u001b[39;49;00m\u001b[43m \u001b[49m\u001b[43mecdf\u001b[49m\u001b[43m:\u001b[49m\u001b[43m \u001b[49m\u001b[43mecdf\u001b[49m\u001b[38;5;241;43m.\u001b[39;49m\u001b[43mcdf_func\u001b[49m\u001b[38;5;241;43m.\u001b[39;49m\u001b[43mx\u001b[49m\u001b[43m[\u001b[49m\u001b[38;5;241;43m1\u001b[39;49m\u001b[43m:\u001b[49m\u001b[43m]\u001b[49m\u001b[38;5;241;43m.\u001b[39;49m\u001b[43mmean\u001b[49m\u001b[43m(\u001b[49m\u001b[43m)\u001b[49m\u001b[43m,\u001b[49m\u001b[43m \u001b[49m\u001b[38;5;241;43m*\u001b[39;49m\u001b[38;5;241;43m*\u001b[39;49m\u001b[43mkwargs\u001b[49m\u001b[43m)\u001b[49m \u001b[38;5;241m<\u001b[39m\u001b[38;5;241m=\u001b[39m true_mean) \u001b[38;5;241m==\u001b[39m \u001b[38;5;241m1\u001b[39m \u001b[38;5;28;01mfor\u001b[39;00m _ \u001b[38;5;129;01min\u001b[39;00m tqdm(\u001b[38;5;28mrange\u001b[39m(COVERAGE_PROB_ITERS))]))\n\u001b[1;32m     23\u001b[0m \u001b[38;5;28mprint\u001b[39m(\u001b[38;5;124m'\u001b[39m\u001b[38;5;124mFor Median:\u001b[39m\u001b[38;5;124m'\u001b[39m, np\u001b[38;5;241m.\u001b[39mmean([np\u001b[38;5;241m.\u001b[39msum(smoothed_bootstrapping(RV, \u001b[38;5;28;01mlambda\u001b[39;00m ecdf: ecdf\u001b[38;5;241m.\u001b[39mmedian(), \u001b[38;5;241m*\u001b[39m\u001b[38;5;241m*\u001b[39mkwargs) \u001b[38;5;241m<\u001b[39m\u001b[38;5;241m=\u001b[39m true_median) \u001b[38;5;241m==\u001b[39m \u001b[38;5;241m1\u001b[39m \u001b[38;5;28;01mfor\u001b[39;00m _ \u001b[38;5;129;01min\u001b[39;00m tqdm(\u001b[38;5;28mrange\u001b[39m(COVERAGE_PROB_ITERS))]))\n\u001b[1;32m     24\u001b[0m \u001b[38;5;28mprint\u001b[39m(\u001b[38;5;124m'\u001b[39m\u001b[38;5;124mFor IQR:\u001b[39m\u001b[38;5;124m'\u001b[39m, np\u001b[38;5;241m.\u001b[39mmean([np\u001b[38;5;241m.\u001b[39msum(smoothed_bootstrapping(RV, \u001b[38;5;28;01mlambda\u001b[39;00m ecdf: ecdf\u001b[38;5;241m.\u001b[39mppf(\u001b[38;5;241m3\u001b[39m\u001b[38;5;241m/\u001b[39m\u001b[38;5;241m4\u001b[39m) \u001b[38;5;241m-\u001b[39m ecdf\u001b[38;5;241m.\u001b[39mppf(\u001b[38;5;241m1\u001b[39m\u001b[38;5;241m/\u001b[39m\u001b[38;5;241m4\u001b[39m), \u001b[38;5;241m*\u001b[39m\u001b[38;5;241m*\u001b[39mkwargs) \u001b[38;5;241m<\u001b[39m\u001b[38;5;241m=\u001b[39m true_iqr) \u001b[38;5;241m==\u001b[39m \u001b[38;5;241m1\u001b[39m \u001b[38;5;28;01mfor\u001b[39;00m _ \u001b[38;5;129;01min\u001b[39;00m tqdm(\u001b[38;5;28mrange\u001b[39m(COVERAGE_PROB_ITERS))]))\n",
      "Cell \u001b[0;32mIn[76], line 13\u001b[0m, in \u001b[0;36msmoothed_bootstrapping\u001b[0;34m(RV, statistic, sample_size, num_bootstraps, resample_statistic, **kwargs)\u001b[0m\n\u001b[1;32m     10\u001b[0m point_estimate \u001b[38;5;241m=\u001b[39m statistic(net_ecdf_rv)\n\u001b[1;32m     12\u001b[0m \u001b[38;5;66;03m# gets the resampled data\u001b[39;00m\n\u001b[0;32m---> 13\u001b[0m resampled_data \u001b[38;5;241m=\u001b[39m np\u001b[38;5;241m.\u001b[39marray([net_ecdf_rv\u001b[38;5;241m.\u001b[39mrvs(size\u001b[38;5;241m=\u001b[39msample_size) \u001b[38;5;28;01mfor\u001b[39;00m _ \u001b[38;5;129;01min\u001b[39;00m \u001b[38;5;28mrange\u001b[39m(num_bootstraps)])\n\u001b[1;32m     15\u001b[0m \u001b[38;5;66;03m# gets the ECDF of each resampled data\u001b[39;00m\n\u001b[1;32m     16\u001b[0m \u001b[38;5;66;03m# ecdf_data = [CustomPDFRV(KDE(bootstrap_sample).eval) for bootstrap_sample in resampled_data] # --> Taking too much time\u001b[39;00m\n\u001b[1;32m     17\u001b[0m ecdf_data \u001b[38;5;241m=\u001b[39m [CustomCDFRV(ECDF(bootstrap_sample), np\u001b[38;5;241m.\u001b[39mmin(bootstrap_sample), np\u001b[38;5;241m.\u001b[39mmax(bootstrap_sample)) \u001b[38;5;28;01mfor\u001b[39;00m bootstrap_sample \u001b[38;5;129;01min\u001b[39;00m resampled_data]\n",
      "Cell \u001b[0;32mIn[76], line 13\u001b[0m, in \u001b[0;36m<listcomp>\u001b[0;34m(.0)\u001b[0m\n\u001b[1;32m     10\u001b[0m point_estimate \u001b[38;5;241m=\u001b[39m statistic(net_ecdf_rv)\n\u001b[1;32m     12\u001b[0m \u001b[38;5;66;03m# gets the resampled data\u001b[39;00m\n\u001b[0;32m---> 13\u001b[0m resampled_data \u001b[38;5;241m=\u001b[39m np\u001b[38;5;241m.\u001b[39marray([\u001b[43mnet_ecdf_rv\u001b[49m\u001b[38;5;241;43m.\u001b[39;49m\u001b[43mrvs\u001b[49m\u001b[43m(\u001b[49m\u001b[43msize\u001b[49m\u001b[38;5;241;43m=\u001b[39;49m\u001b[43msample_size\u001b[49m\u001b[43m)\u001b[49m \u001b[38;5;28;01mfor\u001b[39;00m _ \u001b[38;5;129;01min\u001b[39;00m \u001b[38;5;28mrange\u001b[39m(num_bootstraps)])\n\u001b[1;32m     15\u001b[0m \u001b[38;5;66;03m# gets the ECDF of each resampled data\u001b[39;00m\n\u001b[1;32m     16\u001b[0m \u001b[38;5;66;03m# ecdf_data = [CustomPDFRV(KDE(bootstrap_sample).eval) for bootstrap_sample in resampled_data] # --> Taking too much time\u001b[39;00m\n\u001b[1;32m     17\u001b[0m ecdf_data \u001b[38;5;241m=\u001b[39m [CustomCDFRV(ECDF(bootstrap_sample), np\u001b[38;5;241m.\u001b[39mmin(bootstrap_sample), np\u001b[38;5;241m.\u001b[39mmax(bootstrap_sample)) \u001b[38;5;28;01mfor\u001b[39;00m bootstrap_sample \u001b[38;5;129;01min\u001b[39;00m resampled_data]\n",
      "File \u001b[0;32m~/Desktop/M.STAT. 1ST YEAR/ASSIGNMENTS/RESAMPLING-TECHNIQUES/env/lib/python3.8/site-packages/scipy/stats/_distn_infrastructure.py:1048\u001b[0m, in \u001b[0;36mrv_generic.rvs\u001b[0;34m(self, *args, **kwds)\u001b[0m\n\u001b[1;32m   1045\u001b[0m \u001b[38;5;28;01melse\u001b[39;00m:\n\u001b[1;32m   1046\u001b[0m     random_state \u001b[38;5;241m=\u001b[39m \u001b[38;5;28mself\u001b[39m\u001b[38;5;241m.\u001b[39m_random_state\n\u001b[0;32m-> 1048\u001b[0m vals \u001b[38;5;241m=\u001b[39m \u001b[38;5;28;43mself\u001b[39;49m\u001b[38;5;241;43m.\u001b[39;49m\u001b[43m_rvs\u001b[49m\u001b[43m(\u001b[49m\u001b[38;5;241;43m*\u001b[39;49m\u001b[43margs\u001b[49m\u001b[43m,\u001b[49m\u001b[43m \u001b[49m\u001b[43msize\u001b[49m\u001b[38;5;241;43m=\u001b[39;49m\u001b[43msize\u001b[49m\u001b[43m,\u001b[49m\u001b[43m \u001b[49m\u001b[43mrandom_state\u001b[49m\u001b[38;5;241;43m=\u001b[39;49m\u001b[43mrandom_state\u001b[49m\u001b[43m)\u001b[49m\n\u001b[1;32m   1050\u001b[0m vals \u001b[38;5;241m=\u001b[39m vals \u001b[38;5;241m*\u001b[39m scale \u001b[38;5;241m+\u001b[39m loc\n\u001b[1;32m   1052\u001b[0m \u001b[38;5;66;03m# do not forget to restore the _random_state\u001b[39;00m\n",
      "File \u001b[0;32m~/Desktop/M.STAT. 1ST YEAR/ASSIGNMENTS/RESAMPLING-TECHNIQUES/env/lib/python3.8/site-packages/scipy/stats/_distn_infrastructure.py:974\u001b[0m, in \u001b[0;36mrv_generic._rvs\u001b[0;34m(self, size, random_state, *args)\u001b[0m\n\u001b[1;32m    966\u001b[0m \u001b[38;5;28;01mdef\u001b[39;00m \u001b[38;5;21m_rvs\u001b[39m(\u001b[38;5;28mself\u001b[39m, \u001b[38;5;241m*\u001b[39margs, size\u001b[38;5;241m=\u001b[39m\u001b[38;5;28;01mNone\u001b[39;00m, random_state\u001b[38;5;241m=\u001b[39m\u001b[38;5;28;01mNone\u001b[39;00m):\n\u001b[1;32m    967\u001b[0m     \u001b[38;5;66;03m# This method must handle size being a tuple, and it must\u001b[39;00m\n\u001b[1;32m    968\u001b[0m     \u001b[38;5;66;03m# properly broadcast *args and size.  size might be\u001b[39;00m\n\u001b[0;32m   (...)\u001b[0m\n\u001b[1;32m    971\u001b[0m \n\u001b[1;32m    972\u001b[0m     \u001b[38;5;66;03m# Use basic inverse cdf algorithm for RV generation as default.\u001b[39;00m\n\u001b[1;32m    973\u001b[0m     U \u001b[38;5;241m=\u001b[39m random_state\u001b[38;5;241m.\u001b[39muniform(size\u001b[38;5;241m=\u001b[39msize)\n\u001b[0;32m--> 974\u001b[0m     Y \u001b[38;5;241m=\u001b[39m \u001b[38;5;28;43mself\u001b[39;49m\u001b[38;5;241;43m.\u001b[39;49m\u001b[43m_ppf\u001b[49m\u001b[43m(\u001b[49m\u001b[43mU\u001b[49m\u001b[43m,\u001b[49m\u001b[43m \u001b[49m\u001b[38;5;241;43m*\u001b[39;49m\u001b[43margs\u001b[49m\u001b[43m)\u001b[49m\n\u001b[1;32m    975\u001b[0m     \u001b[38;5;28;01mreturn\u001b[39;00m Y\n",
      "File \u001b[0;32m~/Desktop/M.STAT. 1ST YEAR/ASSIGNMENTS/RESAMPLING-TECHNIQUES/env/lib/python3.8/site-packages/scipy/stats/_distn_infrastructure.py:989\u001b[0m, in \u001b[0;36mrv_generic._ppf\u001b[0;34m(self, q, *args)\u001b[0m\n\u001b[1;32m    988\u001b[0m \u001b[38;5;28;01mdef\u001b[39;00m \u001b[38;5;21m_ppf\u001b[39m(\u001b[38;5;28mself\u001b[39m, q, \u001b[38;5;241m*\u001b[39margs):\n\u001b[0;32m--> 989\u001b[0m     \u001b[38;5;28;01mreturn\u001b[39;00m \u001b[38;5;28;43mself\u001b[39;49m\u001b[38;5;241;43m.\u001b[39;49m\u001b[43m_ppfvec\u001b[49m\u001b[43m(\u001b[49m\u001b[43mq\u001b[49m\u001b[43m,\u001b[49m\u001b[43m \u001b[49m\u001b[38;5;241;43m*\u001b[39;49m\u001b[43margs\u001b[49m\u001b[43m)\u001b[49m\n",
      "File \u001b[0;32m~/Desktop/M.STAT. 1ST YEAR/ASSIGNMENTS/RESAMPLING-TECHNIQUES/env/lib/python3.8/site-packages/numpy/lib/function_base.py:2329\u001b[0m, in \u001b[0;36mvectorize.__call__\u001b[0;34m(self, *args, **kwargs)\u001b[0m\n\u001b[1;32m   2326\u001b[0m     vargs \u001b[38;5;241m=\u001b[39m [args[_i] \u001b[38;5;28;01mfor\u001b[39;00m _i \u001b[38;5;129;01min\u001b[39;00m inds]\n\u001b[1;32m   2327\u001b[0m     vargs\u001b[38;5;241m.\u001b[39mextend([kwargs[_n] \u001b[38;5;28;01mfor\u001b[39;00m _n \u001b[38;5;129;01min\u001b[39;00m names])\n\u001b[0;32m-> 2329\u001b[0m \u001b[38;5;28;01mreturn\u001b[39;00m \u001b[38;5;28;43mself\u001b[39;49m\u001b[38;5;241;43m.\u001b[39;49m\u001b[43m_vectorize_call\u001b[49m\u001b[43m(\u001b[49m\u001b[43mfunc\u001b[49m\u001b[38;5;241;43m=\u001b[39;49m\u001b[43mfunc\u001b[49m\u001b[43m,\u001b[49m\u001b[43m \u001b[49m\u001b[43margs\u001b[49m\u001b[38;5;241;43m=\u001b[39;49m\u001b[43mvargs\u001b[49m\u001b[43m)\u001b[49m\n",
      "File \u001b[0;32m~/Desktop/M.STAT. 1ST YEAR/ASSIGNMENTS/RESAMPLING-TECHNIQUES/env/lib/python3.8/site-packages/numpy/lib/function_base.py:2412\u001b[0m, in \u001b[0;36mvectorize._vectorize_call\u001b[0;34m(self, func, args)\u001b[0m\n\u001b[1;32m   2409\u001b[0m \u001b[38;5;66;03m# Convert args to object arrays first\u001b[39;00m\n\u001b[1;32m   2410\u001b[0m inputs \u001b[38;5;241m=\u001b[39m [asanyarray(a, dtype\u001b[38;5;241m=\u001b[39m\u001b[38;5;28mobject\u001b[39m) \u001b[38;5;28;01mfor\u001b[39;00m a \u001b[38;5;129;01min\u001b[39;00m args]\n\u001b[0;32m-> 2412\u001b[0m outputs \u001b[38;5;241m=\u001b[39m \u001b[43mufunc\u001b[49m\u001b[43m(\u001b[49m\u001b[38;5;241;43m*\u001b[39;49m\u001b[43minputs\u001b[49m\u001b[43m)\u001b[49m\n\u001b[1;32m   2414\u001b[0m \u001b[38;5;28;01mif\u001b[39;00m ufunc\u001b[38;5;241m.\u001b[39mnout \u001b[38;5;241m==\u001b[39m \u001b[38;5;241m1\u001b[39m:\n\u001b[1;32m   2415\u001b[0m     res \u001b[38;5;241m=\u001b[39m asanyarray(outputs, dtype\u001b[38;5;241m=\u001b[39motypes[\u001b[38;5;241m0\u001b[39m])\n",
      "File \u001b[0;32m~/Desktop/M.STAT. 1ST YEAR/ASSIGNMENTS/RESAMPLING-TECHNIQUES/env/lib/python3.8/site-packages/scipy/stats/_distn_infrastructure.py:2024\u001b[0m, in \u001b[0;36mrv_continuous._ppf_single\u001b[0;34m(self, q, *args)\u001b[0m\n\u001b[1;32m   2021\u001b[0m         left, right \u001b[38;5;241m=\u001b[39m right, right \u001b[38;5;241m*\u001b[39m factor\n\u001b[1;32m   2022\u001b[0m     \u001b[38;5;66;03m# right is now such that cdf(right) >= q\u001b[39;00m\n\u001b[0;32m-> 2024\u001b[0m \u001b[38;5;28;01mreturn\u001b[39;00m \u001b[43moptimize\u001b[49m\u001b[38;5;241;43m.\u001b[39;49m\u001b[43mbrentq\u001b[49m\u001b[43m(\u001b[49m\u001b[38;5;28;43mself\u001b[39;49m\u001b[38;5;241;43m.\u001b[39;49m\u001b[43m_ppf_to_solve\u001b[49m\u001b[43m,\u001b[49m\n\u001b[1;32m   2025\u001b[0m \u001b[43m                       \u001b[49m\u001b[43mleft\u001b[49m\u001b[43m,\u001b[49m\u001b[43m \u001b[49m\u001b[43mright\u001b[49m\u001b[43m,\u001b[49m\u001b[43m \u001b[49m\u001b[43margs\u001b[49m\u001b[38;5;241;43m=\u001b[39;49m\u001b[43m(\u001b[49m\u001b[43mq\u001b[49m\u001b[43m,\u001b[49m\u001b[43m)\u001b[49m\u001b[38;5;241;43m+\u001b[39;49m\u001b[43margs\u001b[49m\u001b[43m,\u001b[49m\u001b[43m \u001b[49m\u001b[43mxtol\u001b[49m\u001b[38;5;241;43m=\u001b[39;49m\u001b[38;5;28;43mself\u001b[39;49m\u001b[38;5;241;43m.\u001b[39;49m\u001b[43mxtol\u001b[49m\u001b[43m)\u001b[49m\n",
      "File \u001b[0;32m~/Desktop/M.STAT. 1ST YEAR/ASSIGNMENTS/RESAMPLING-TECHNIQUES/env/lib/python3.8/site-packages/scipy/optimize/_zeros_py.py:784\u001b[0m, in \u001b[0;36mbrentq\u001b[0;34m(f, a, b, args, xtol, rtol, maxiter, full_output, disp)\u001b[0m\n\u001b[1;32m    782\u001b[0m \u001b[38;5;28;01mif\u001b[39;00m rtol \u001b[38;5;241m<\u001b[39m _rtol:\n\u001b[1;32m    783\u001b[0m     \u001b[38;5;28;01mraise\u001b[39;00m \u001b[38;5;167;01mValueError\u001b[39;00m(\u001b[38;5;124m\"\u001b[39m\u001b[38;5;124mrtol too small (\u001b[39m\u001b[38;5;132;01m%g\u001b[39;00m\u001b[38;5;124m < \u001b[39m\u001b[38;5;132;01m%g\u001b[39;00m\u001b[38;5;124m)\u001b[39m\u001b[38;5;124m\"\u001b[39m \u001b[38;5;241m%\u001b[39m (rtol, _rtol))\n\u001b[0;32m--> 784\u001b[0m r \u001b[38;5;241m=\u001b[39m \u001b[43m_zeros\u001b[49m\u001b[38;5;241;43m.\u001b[39;49m\u001b[43m_brentq\u001b[49m\u001b[43m(\u001b[49m\u001b[43mf\u001b[49m\u001b[43m,\u001b[49m\u001b[43m \u001b[49m\u001b[43ma\u001b[49m\u001b[43m,\u001b[49m\u001b[43m \u001b[49m\u001b[43mb\u001b[49m\u001b[43m,\u001b[49m\u001b[43m \u001b[49m\u001b[43mxtol\u001b[49m\u001b[43m,\u001b[49m\u001b[43m \u001b[49m\u001b[43mrtol\u001b[49m\u001b[43m,\u001b[49m\u001b[43m \u001b[49m\u001b[43mmaxiter\u001b[49m\u001b[43m,\u001b[49m\u001b[43m \u001b[49m\u001b[43margs\u001b[49m\u001b[43m,\u001b[49m\u001b[43m \u001b[49m\u001b[43mfull_output\u001b[49m\u001b[43m,\u001b[49m\u001b[43m \u001b[49m\u001b[43mdisp\u001b[49m\u001b[43m)\u001b[49m\n\u001b[1;32m    785\u001b[0m \u001b[38;5;28;01mreturn\u001b[39;00m results_c(full_output, r)\n",
      "File \u001b[0;32m~/Desktop/M.STAT. 1ST YEAR/ASSIGNMENTS/RESAMPLING-TECHNIQUES/env/lib/python3.8/site-packages/scipy/stats/_distn_infrastructure.py:2005\u001b[0m, in \u001b[0;36mrv_continuous._ppf_to_solve\u001b[0;34m(self, x, q, *args)\u001b[0m\n\u001b[1;32m   2004\u001b[0m \u001b[38;5;28;01mdef\u001b[39;00m \u001b[38;5;21m_ppf_to_solve\u001b[39m(\u001b[38;5;28mself\u001b[39m, x, q, \u001b[38;5;241m*\u001b[39margs):\n\u001b[0;32m-> 2005\u001b[0m     \u001b[38;5;28;01mreturn\u001b[39;00m \u001b[38;5;28;43mself\u001b[39;49m\u001b[38;5;241;43m.\u001b[39;49m\u001b[43mcdf\u001b[49m\u001b[43m(\u001b[49m\u001b[38;5;241;43m*\u001b[39;49m\u001b[43m(\u001b[49m\u001b[43mx\u001b[49m\u001b[43m,\u001b[49m\u001b[43m \u001b[49m\u001b[43m)\u001b[49m\u001b[38;5;241;43m+\u001b[39;49m\u001b[43margs\u001b[49m\u001b[43m)\u001b[49m\u001b[38;5;241m-\u001b[39mq\n",
      "File \u001b[0;32m~/Desktop/M.STAT. 1ST YEAR/ASSIGNMENTS/RESAMPLING-TECHNIQUES/env/lib/python3.8/site-packages/scipy/stats/_distn_infrastructure.py:2186\u001b[0m, in \u001b[0;36mrv_continuous.cdf\u001b[0;34m(self, x, *args, **kwds)\u001b[0m\n\u001b[1;32m   2184\u001b[0m \u001b[38;5;28;01mif\u001b[39;00m np\u001b[38;5;241m.\u001b[39many(cond):  \u001b[38;5;66;03m# call only if at least 1 entry\u001b[39;00m\n\u001b[1;32m   2185\u001b[0m     goodargs \u001b[38;5;241m=\u001b[39m argsreduce(cond, \u001b[38;5;241m*\u001b[39m((x,)\u001b[38;5;241m+\u001b[39margs))\n\u001b[0;32m-> 2186\u001b[0m     \u001b[43mplace\u001b[49m\u001b[43m(\u001b[49m\u001b[43moutput\u001b[49m\u001b[43m,\u001b[49m\u001b[43m \u001b[49m\u001b[43mcond\u001b[49m\u001b[43m,\u001b[49m\u001b[43m \u001b[49m\u001b[38;5;28;43mself\u001b[39;49m\u001b[38;5;241;43m.\u001b[39;49m\u001b[43m_cdf\u001b[49m\u001b[43m(\u001b[49m\u001b[38;5;241;43m*\u001b[39;49m\u001b[43mgoodargs\u001b[49m\u001b[43m)\u001b[49m\u001b[43m)\u001b[49m\n\u001b[1;32m   2187\u001b[0m \u001b[38;5;28;01mif\u001b[39;00m output\u001b[38;5;241m.\u001b[39mndim \u001b[38;5;241m==\u001b[39m \u001b[38;5;241m0\u001b[39m:\n\u001b[1;32m   2188\u001b[0m     \u001b[38;5;28;01mreturn\u001b[39;00m output[()]\n",
      "File \u001b[0;32m<__array_function__ internals>:200\u001b[0m, in \u001b[0;36mplace\u001b[0;34m(*args, **kwargs)\u001b[0m\n",
      "File \u001b[0;32m~/Desktop/M.STAT. 1ST YEAR/ASSIGNMENTS/RESAMPLING-TECHNIQUES/env/lib/python3.8/site-packages/numpy/lib/function_base.py:1954\u001b[0m, in \u001b[0;36mplace\u001b[0;34m(arr, mask, vals)\u001b[0m\n\u001b[1;32m   1950\u001b[0m \u001b[38;5;28;01mif\u001b[39;00m \u001b[38;5;129;01mnot\u001b[39;00m \u001b[38;5;28misinstance\u001b[39m(arr, np\u001b[38;5;241m.\u001b[39mndarray):\n\u001b[1;32m   1951\u001b[0m     \u001b[38;5;28;01mraise\u001b[39;00m \u001b[38;5;167;01mTypeError\u001b[39;00m(\u001b[38;5;124m\"\u001b[39m\u001b[38;5;124margument 1 must be numpy.ndarray, \u001b[39m\u001b[38;5;124m\"\u001b[39m\n\u001b[1;32m   1952\u001b[0m                     \u001b[38;5;124m\"\u001b[39m\u001b[38;5;124mnot \u001b[39m\u001b[38;5;132;01m{name}\u001b[39;00m\u001b[38;5;124m\"\u001b[39m\u001b[38;5;241m.\u001b[39mformat(name\u001b[38;5;241m=\u001b[39m\u001b[38;5;28mtype\u001b[39m(arr)\u001b[38;5;241m.\u001b[39m\u001b[38;5;18m__name__\u001b[39m))\n\u001b[0;32m-> 1954\u001b[0m \u001b[38;5;28;01mreturn\u001b[39;00m \u001b[43m_insert\u001b[49m\u001b[43m(\u001b[49m\u001b[43marr\u001b[49m\u001b[43m,\u001b[49m\u001b[43m \u001b[49m\u001b[43mmask\u001b[49m\u001b[43m,\u001b[49m\u001b[43m \u001b[49m\u001b[43mvals\u001b[49m\u001b[43m)\u001b[49m\n",
      "\u001b[0;31mKeyboardInterrupt\u001b[0m: "
     ]
    }
   ],
   "source": [
    "evaluate_all(cauchy, loc=5, scale=3)"
   ]
  },
  {
   "cell_type": "markdown",
   "metadata": {},
   "source": [
    "##### 1/2 * Normal(5, 1) + 1/2 * Cauchy(10, 1) Distribution"
   ]
  },
  {
   "cell_type": "code",
   "execution_count": null,
   "metadata": {},
   "outputs": [
    {
     "name": "stdout",
     "output_type": "stream",
     "text": [
      "*** BOOTSTRAP CONFIDENCE INTERVALS ***\n",
      "For Mean: [ 9.93029769 13.5951231 ]\n",
      "For Median: [ 2.02599997 10.42763695]\n",
      "For IQR: [2.97169496 7.22987251]\n",
      "\n",
      "*** TRUE PARAMETER VALUES ***\n",
      "For Mean: 7.500000000000184\n",
      "For Median: 6.368752841046282\n",
      "For IQR: 5.153524566844071\n"
     ]
    }
   ],
   "source": [
    "evaluate_all(CustomCDFRV(lambda x: (norm.cdf(x, loc=5, scale=1) + cauchy.cdf(x, loc=10, scale=1))/2))"
   ]
  },
  {
   "cell_type": "markdown",
   "metadata": {},
   "source": [
    "#### Parametric Bootstrap"
   ]
  },
  {
   "cell_type": "markdown",
   "metadata": {},
   "source": [
    "Here, the estimator of the $F$ is taken to be coming from a parametric family which is assumed to the same family as given in the assignment questions. In this case, after obtaining a sample $\\{X_i\\}_{i=1}^n\\sim F$. I employ MLE to find the parameters of the distribution family which is assumed in that case eg. for $\\mathcal{N}(5, 9)$, the family of distribution assumed is $\\mathcal{N}(\\mu, \\sigma^2)$ and we estimate $\\mu$ and $\\sigma^2$ from the sample. Then after we have got the estimator of $F$ with the parameters, its pdf is also readily available and thus we don't use histogram here for Entropy calculation.\n",
    "\n",
    "The MLE estimates are found computationally rather than using a closed form formulae as there is also a mixture distribution whose parameter needs to be estimated."
   ]
  },
  {
   "cell_type": "code",
   "execution_count": 83,
   "metadata": {},
   "outputs": [],
   "source": [
    "def param_bootstrapping(RV, statistic, sample_size: int = SAMPLE_SIZE, num_bootstraps: int = NUM_BOOTSTRAPS, fscale=None, resample_statistic = None, **kwargs):\n",
    "\n",
    "    # get the sample\n",
    "    sample_data = RV.rvs(size=sample_size, **kwargs)\n",
    "\n",
    "    # fit the dist to the data\n",
    "    if fscale is None:\n",
    "        fit_params = RV.fit(sample_data)\n",
    "    else:\n",
    "        fit_params = RV.fit(sample_data, fscale=fscale)\n",
    "\n",
    "    # fitted cdf\n",
    "    fit_rv = CustomCDFRV(lambda x: RV.cdf(x, loc=fit_params[0], scale=fit_params[1]))\n",
    "\n",
    "    # get point estimate\n",
    "    point_estimate = statistic(fit_rv)\n",
    "\n",
    "    # gets the resampled data\n",
    "    resampled_data = np.array([fit_rv.rvs(size=sample_size) for _ in range(num_bootstraps)])\n",
    "\n",
    "    # gets the ECDF of each resampled data\n",
    "    ecdf_data = [CustomCDFRV(ECDF(bootstrap_sample), np.min(bootstrap_sample), np.max(bootstrap_sample)) for bootstrap_sample in resampled_data]\n",
    "\n",
    "    # gets the resample data statistic\n",
    "    if resample_statistic is None:\n",
    "        resampled_statistics = np.array([np.sqrt(sample_size) * (statistic(ecdf) - point_estimate) for ecdf in ecdf_data])\n",
    "    else:\n",
    "        resampled_statistics = np.array([np.sqrt(sample_size) * (resample_statistic(ecdf) - point_estimate) for ecdf in ecdf_data])\n",
    "\n",
    "    # gets the resampled data statistic's ecdf\n",
    "    resampled_statistic_ecdf = CustomCDFRV(ECDF(resampled_statistics))\n",
    "\n",
    "    return np.array([point_estimate + resampled_statistic_ecdf.ppf(0.025)/np.sqrt(sample_size), point_estimate + \n",
    "            resampled_statistic_ecdf.ppf(0.975)/np.sqrt(sample_size)])"
   ]
  },
  {
   "cell_type": "code",
   "execution_count": 86,
   "metadata": {},
   "outputs": [],
   "source": [
    "def evaluate_all(RV, fs=None, **kwargs):\n",
    "    print('*** BOOTSTRAP CONFIDENCE INTERVALS ***')\n",
    "    print('For Mean:', param_bootstrapping(RV, lambda ecdf: ecdf.mean(), resample_statistic= lambda ecdf: ecdf.cdf_func.x[1:].mean(), fscale=fs, **kwargs))\n",
    "    print('For Median:', param_bootstrapping(RV, lambda ecdf: ecdf.median(), fscale=fs, **kwargs))\n",
    "    print('For IQR:', param_bootstrapping(RV, lambda ecdf: ecdf.ppf(3/4) - ecdf.ppf(1/4), fscale=fs, **kwargs))\n",
    "    print('For Entropy:', param_bootstrapping(RV, lambda ecdf: ecdf.entropy(), resample_statistic=emp_entropy, fscale=fs, **kwargs))\n",
    "\n",
    "    true_mean = RV.mean(**kwargs)\n",
    "    true_median = RV.median(**kwargs)\n",
    "    true_iqr = RV.ppf(3/4, **kwargs) - RV.ppf(1/4, **kwargs)\n",
    "    true_entropy = RV.entropy(**kwargs)\n",
    "\n",
    "    print()\n",
    "    print('*** TRUE PARAMETER VALUES ***')\n",
    "    print('For Mean:', true_mean)\n",
    "    print('For Median:', true_median)\n",
    "    print('For IQR:', true_iqr)\n",
    "    print('For Entropy:', true_entropy)\n",
    "\n",
    "    print()\n",
    "    print('*** COVERAGE PROBABILITIES ***')\n",
    "    print('For Mean:', np.mean([np.sum(param_bootstrapping(RV, lambda ecdf: ecdf.mean(), resample_statistic= lambda ecdf: ecdf.cdf_func.x[1:].mean(), fscale=fs, **kwargs) <= true_mean) == 1 for _ in tqdm(range(COVERAGE_PROB_ITERS))]))\n",
    "    print('For Median:', np.mean([np.sum(param_bootstrapping(RV, lambda ecdf: ecdf.median(), fscale=fs, **kwargs) <= true_median) == 1 for _ in tqdm(range(COVERAGE_PROB_ITERS))]))\n",
    "    print('For IQR:', np.mean([np.sum(param_bootstrapping(RV, lambda ecdf: ecdf.ppf(3/4) - ecdf.ppf(1/4), fscale=fs, **kwargs) <= true_iqr) == 1 for _ in tqdm(range(COVERAGE_PROB_ITERS))]))\n",
    "    print('For Entropy:', np.mean([np.sum(param_bootstrapping(RV, lambda ecdf: ecdf.entropy(), resample_statistic=emp_entropy, fscale=fs, **kwargs) <= true_entropy) == 1 for _ in tqdm(range(COVERAGE_PROB_ITERS))]))"
   ]
  },
  {
   "cell_type": "markdown",
   "metadata": {},
   "source": [
    "##### Normal(5, 1) Distribution"
   ]
  },
  {
   "cell_type": "code",
   "execution_count": 87,
   "metadata": {},
   "outputs": [
    {
     "name": "stdout",
     "output_type": "stream",
     "text": [
      "*** BOOTSTRAP CONFIDENCE INTERVALS ***\n",
      "For Mean: [4.55784072 5.35014026]\n",
      "For Median: [4.25652549 5.30979888]\n",
      "For IQR: [0.82725383 2.00752362]\n"
     ]
    },
    {
     "name": "stderr",
     "output_type": "stream",
     "text": [
      "/var/folders/mg/l90d6s9536n6mfzjbqgrxffm0000gn/T/ipykernel_14340/184846182.py:8: RuntimeWarning: divide by zero encountered in log\n",
      "  return np.ma.masked_invalid(-np.log([probs[np.argmax(bin_edges >= x) - 1] for x in ecdf.cdf_func.x[1:]])).mean()\n"
     ]
    },
    {
     "name": "stdout",
     "output_type": "stream",
     "text": [
      "For Entropy: [0.79120456 1.49710595]\n",
      "\n",
      "*** TRUE PARAMETER VALUES ***\n",
      "For Mean: 5.0\n",
      "For Median: 5.0\n",
      "For IQR: 1.3489795003921632\n",
      "For Entropy: 1.4189385332046727\n",
      "\n",
      "*** COVERAGE PROBABILITIES ***\n"
     ]
    },
    {
     "name": "stderr",
     "output_type": "stream",
     "text": [
      "\n",
      "\n",
      "\u001b[A\u001b[A\n",
      "\n",
      "\u001b[A\u001b[A\n",
      "\n",
      "\u001b[A\u001b[A\n",
      "\n",
      "\u001b[A\u001b[A\n",
      "\n",
      "\u001b[A\u001b[A\n",
      "\n",
      "\u001b[A\u001b[A\n",
      "\n",
      "\u001b[A\u001b[A\n",
      "\n",
      "\u001b[A\u001b[A\n",
      "\n",
      "\u001b[A\u001b[A\n",
      "\n",
      "\u001b[A\u001b[A\n",
      "\n",
      "\u001b[A\u001b[A\n",
      "\n",
      "\u001b[A\u001b[A\n",
      "\n",
      "\u001b[A\u001b[A\n",
      "\n",
      "\u001b[A\u001b[A\n",
      "\n",
      "\u001b[A\u001b[A\n",
      "\n",
      "\u001b[A\u001b[A\n",
      "\n",
      "\u001b[A\u001b[A\n",
      "\n",
      "\u001b[A\u001b[A\n",
      "\n",
      "\u001b[A\u001b[A\n",
      "\n",
      "\u001b[A\u001b[A\n",
      "\n",
      "\u001b[A\u001b[A\n",
      "\n",
      "\u001b[A\u001b[A\n",
      "\n",
      "\u001b[A\u001b[A\n",
      "\n",
      "\u001b[A\u001b[A\n",
      "\n",
      "\u001b[A\u001b[A\n",
      "\n",
      "\u001b[A\u001b[A\n",
      "\n",
      "\u001b[A\u001b[A\n",
      "\n",
      "\u001b[A\u001b[A\n",
      "\n",
      "\u001b[A\u001b[A\n",
      "\n",
      "\u001b[A\u001b[A\n",
      "\n",
      "\u001b[A\u001b[A\n",
      "\n",
      "\u001b[A\u001b[A\n",
      "\n",
      "\u001b[A\u001b[A\n",
      "\n",
      "\u001b[A\u001b[A\n",
      "\n",
      "\u001b[A\u001b[A\n",
      "\n",
      "\u001b[A\u001b[A\n",
      "\n",
      "\u001b[A\u001b[A\n",
      "\n",
      "\u001b[A\u001b[A\n",
      "\n",
      "\u001b[A\u001b[A\n",
      "\n",
      "\u001b[A\u001b[A\n",
      "\n",
      "\u001b[A\u001b[A\n",
      "\n",
      "\u001b[A\u001b[A\n",
      "\n",
      "\u001b[A\u001b[A\n",
      "\n",
      "\u001b[A\u001b[A\n",
      "\n",
      "\u001b[A\u001b[A\n",
      "\n",
      "\u001b[A\u001b[A\n",
      "\n",
      "\u001b[A\u001b[A\n",
      "\n",
      "\u001b[A\u001b[A\n",
      "\n",
      "\u001b[A\u001b[A\n",
      "\n",
      "\u001b[A\u001b[A\n",
      "\n",
      "\u001b[A\u001b[A\n",
      "\n",
      "\u001b[A\u001b[A\n",
      "\n",
      "\u001b[A\u001b[A\n",
      "\n",
      "\u001b[A\u001b[A\n",
      "\n",
      "\u001b[A\u001b[A\n",
      "\n",
      "\u001b[A\u001b[A\n",
      "\n",
      "\u001b[A\u001b[A\n",
      "\n",
      "\u001b[A\u001b[A\n",
      "\n",
      "\u001b[A\u001b[A\n",
      "\n",
      "\u001b[A\u001b[A\n",
      "\n",
      "\u001b[A\u001b[A\n",
      "\n",
      "\u001b[A\u001b[A\n",
      "\n",
      "\u001b[A\u001b[A\n",
      "\n",
      "\u001b[A\u001b[A\n",
      "\n",
      "\u001b[A\u001b[A\n",
      "\n",
      "\u001b[A\u001b[A\n",
      "\n",
      "\u001b[A\u001b[A\n",
      "\n",
      "\u001b[A\u001b[A\n",
      "\n",
      "\u001b[A\u001b[A\n",
      "\n",
      "\u001b[A\u001b[A\n",
      "\n",
      "\u001b[A\u001b[A\n",
      "\n",
      "\u001b[A\u001b[A\n",
      "\n",
      "\u001b[A\u001b[A\n",
      "\n",
      "\u001b[A\u001b[A\n",
      "\n",
      "\u001b[A\u001b[A\n",
      "\n",
      "\u001b[A\u001b[A\n",
      "\n",
      "\u001b[A\u001b[A\n",
      "\n",
      "\u001b[A\u001b[A\n",
      "\n",
      "\u001b[A\u001b[A\n",
      "\n",
      "\u001b[A\u001b[A\n",
      "\n",
      "\u001b[A\u001b[A\n",
      "\n",
      "\u001b[A\u001b[A\n",
      "\n",
      "\u001b[A\u001b[A\n",
      "\n",
      "\u001b[A\u001b[A\n",
      "\n",
      "\u001b[A\u001b[A\n",
      "\n",
      "\u001b[A\u001b[A\n",
      "\n",
      "\u001b[A\u001b[A\n",
      "\n",
      "\u001b[A\u001b[A\n",
      "\n",
      "\u001b[A\u001b[A\n",
      "\n",
      "\u001b[A\u001b[A\n",
      "\n",
      "\u001b[A\u001b[A\n",
      "\n",
      "\u001b[A\u001b[A\n",
      "\n",
      "\u001b[A\u001b[A\n",
      "\n",
      "\u001b[A\u001b[A\n",
      "\n",
      "\u001b[A\u001b[A\n",
      "\n",
      "\u001b[A\u001b[A\n",
      "\n",
      "\u001b[A\u001b[A\n",
      "\n",
      "\u001b[A\u001b[A\n",
      "\n",
      "\u001b[A\u001b[A\n",
      "\n",
      "\u001b[A\u001b[A\n",
      "\n",
      "100%|██████████| 100/100 [01:24<00:00,  1.18it/s]\n"
     ]
    },
    {
     "name": "stdout",
     "output_type": "stream",
     "text": [
      "For Mean: 0.92\n"
     ]
    },
    {
     "name": "stderr",
     "output_type": "stream",
     "text": [
      "\n",
      "\n",
      "\u001b[A\u001b[A\n",
      "\n",
      "\u001b[A\u001b[A\n",
      "\n",
      "\u001b[A\u001b[A\n",
      "\n",
      "\u001b[A\u001b[A\n",
      "\n",
      "\u001b[A\u001b[A\n",
      "\n",
      "\u001b[A\u001b[A\n",
      "\n",
      "\u001b[A\u001b[A\n",
      "\n",
      "\u001b[A\u001b[A\n",
      "\n",
      "\u001b[A\u001b[A\n",
      "\n",
      "\u001b[A\u001b[A\n",
      "\n",
      "\u001b[A\u001b[A\n",
      "\n",
      "\u001b[A\u001b[A\n",
      "\n",
      "\u001b[A\u001b[A\n",
      "\n",
      "\u001b[A\u001b[A\n",
      "\n",
      "\u001b[A\u001b[A\n",
      "\n",
      "\u001b[A\u001b[A\n",
      "\n",
      "\u001b[A\u001b[A\n",
      "\n",
      "\u001b[A\u001b[A\n",
      "\n",
      "\u001b[A\u001b[A\n",
      "\n",
      "\u001b[A\u001b[A\n",
      "\n",
      "\u001b[A\u001b[A\n",
      "\n",
      "\u001b[A\u001b[A\n",
      "\n",
      "\u001b[A\u001b[A\n",
      "\n",
      "\u001b[A\u001b[A\n",
      "\n",
      "\u001b[A\u001b[A\n",
      "\n",
      "\u001b[A\u001b[A\n",
      "\n",
      "\u001b[A\u001b[A\n",
      "\n",
      "\u001b[A\u001b[A\n",
      "\n",
      "\u001b[A\u001b[A\n",
      "\n",
      "\u001b[A\u001b[A\n",
      "\n",
      "\u001b[A\u001b[A\n",
      "\n",
      "\u001b[A\u001b[A\n",
      "\n",
      "\u001b[A\u001b[A\n",
      "\n",
      "\u001b[A\u001b[A\n",
      "\n",
      "\u001b[A\u001b[A\n",
      "\n",
      "\u001b[A\u001b[A\n",
      "\n",
      "\u001b[A\u001b[A\n",
      "\n",
      "\u001b[A\u001b[A\n",
      "\n",
      "\u001b[A\u001b[A\n",
      "\n",
      "\u001b[A\u001b[A\n",
      "\n",
      "\u001b[A\u001b[A\n",
      "\n",
      "\u001b[A\u001b[A\n",
      "\n",
      "\u001b[A\u001b[A\n",
      "\n",
      "\u001b[A\u001b[A\n",
      "\n",
      "\u001b[A\u001b[A\n",
      "\n",
      "\u001b[A\u001b[A\n",
      "\n",
      "\u001b[A\u001b[A\n",
      "\n",
      "\u001b[A\u001b[A\n",
      "\n",
      "\u001b[A\u001b[A\n",
      "\n",
      "\u001b[A\u001b[A\n",
      "\n",
      "\u001b[A\u001b[A\n",
      "\n",
      "\u001b[A\u001b[A\n",
      "\n",
      "\u001b[A\u001b[A\n",
      "\n",
      "\u001b[A\u001b[A\n",
      "\n",
      "\u001b[A\u001b[A\n",
      "\n",
      "\u001b[A\u001b[A\n",
      "\n",
      "\u001b[A\u001b[A\n",
      "\n",
      "\u001b[A\u001b[A\n",
      "\n",
      "\u001b[A\u001b[A\n",
      "\n",
      "\u001b[A\u001b[A\n",
      "\n",
      "\u001b[A\u001b[A\n",
      "\n",
      "\u001b[A\u001b[A\n",
      "\n",
      "\u001b[A\u001b[A\n",
      "\n",
      "\u001b[A\u001b[A\n",
      "\n",
      "\u001b[A\u001b[A\n",
      "\n",
      "\u001b[A\u001b[A\n",
      "\n",
      "\u001b[A\u001b[A\n",
      "\n",
      "\u001b[A\u001b[A\n",
      "\n",
      "\u001b[A\u001b[A\n",
      "\n",
      "\u001b[A\u001b[A\n",
      "\n",
      "\u001b[A\u001b[A\n",
      "\n",
      "\u001b[A\u001b[A\n",
      "\n",
      "\u001b[A\u001b[A\n",
      "\n",
      "\u001b[A\u001b[A\n",
      "\n",
      "\u001b[A\u001b[A\n",
      "\n",
      "\u001b[A\u001b[A\n",
      "\n",
      "\u001b[A\u001b[A\n",
      "\n",
      " 84%|████████▍ | 84/100 [12:46<02:25,  9.12s/it]\n",
      " 12%|█▏        | 12/100 [04:17<31:24, 21.42s/it]\n",
      "\n",
      "\n",
      "\u001b[A\u001b[A\n",
      "\n",
      "\u001b[A\u001b[A\n",
      "\n",
      "\u001b[A\u001b[A\n",
      "\n",
      "\u001b[A\u001b[A\n",
      "\n",
      "\u001b[A\u001b[A\n",
      "\n",
      "\u001b[A\u001b[A\n",
      "\n",
      "\u001b[A\u001b[A\n",
      "\n",
      "\u001b[A\u001b[A\n",
      "\n",
      "\u001b[A\u001b[A\n",
      "\n",
      "\u001b[A\u001b[A\n",
      "\n",
      "\u001b[A\u001b[A\n",
      "\n",
      "\u001b[A\u001b[A\n",
      "\n",
      "\u001b[A\u001b[A\n",
      "\n",
      "\u001b[A\u001b[A\n",
      "\n",
      "\u001b[A\u001b[A\n",
      "\n",
      "\u001b[A\u001b[A\n",
      "\n",
      "\u001b[A\u001b[A\n",
      "\n",
      "\u001b[A\u001b[A\n",
      "\n",
      "\u001b[A\u001b[A\n",
      "\n",
      "\u001b[A\u001b[A\n",
      "\n",
      "\u001b[A\u001b[A\n",
      "\n",
      "\u001b[A\u001b[A\n",
      "\n",
      "100%|██████████| 100/100 [01:32<00:00,  1.08it/s]\n"
     ]
    },
    {
     "name": "stdout",
     "output_type": "stream",
     "text": [
      "For Median: 0.95\n"
     ]
    },
    {
     "name": "stderr",
     "output_type": "stream",
     "text": [
      "100%|██████████| 100/100 [01:21<00:00,  1.22it/s]\n"
     ]
    },
    {
     "name": "stdout",
     "output_type": "stream",
     "text": [
      "For IQR: 1.0\n"
     ]
    },
    {
     "name": "stderr",
     "output_type": "stream",
     "text": [
      "100%|██████████| 100/100 [01:26<00:00,  1.16it/s]"
     ]
    },
    {
     "name": "stdout",
     "output_type": "stream",
     "text": [
      "For Entropy: 0.92\n"
     ]
    },
    {
     "name": "stderr",
     "output_type": "stream",
     "text": [
      "\n"
     ]
    }
   ],
   "source": [
    "evaluate_all(norm, loc=5, fs=1)"
   ]
  },
  {
   "cell_type": "markdown",
   "metadata": {},
   "source": [
    "##### Normal(5, 9) Distribution"
   ]
  },
  {
   "cell_type": "code",
   "execution_count": 88,
   "metadata": {},
   "outputs": [
    {
     "name": "stdout",
     "output_type": "stream",
     "text": [
      "*** BOOTSTRAP CONFIDENCE INTERVALS ***\n",
      "For Mean: [3.42448174 5.67431746]\n",
      "For Median: [4.79231939 7.52415556]\n",
      "For IQR: [1.47959081 4.58257527]\n"
     ]
    },
    {
     "name": "stderr",
     "output_type": "stream",
     "text": [
      "/var/folders/mg/l90d6s9536n6mfzjbqgrxffm0000gn/T/ipykernel_14340/184846182.py:8: RuntimeWarning: divide by zero encountered in log\n",
      "  return np.ma.masked_invalid(-np.log([probs[np.argmax(bin_edges >= x) - 1] for x in ecdf.cdf_func.x[1:]])).mean()\n"
     ]
    },
    {
     "name": "stdout",
     "output_type": "stream",
     "text": [
      "For Entropy: [2.03785279 2.62053982]\n",
      "\n",
      "*** TRUE PARAMETER VALUES ***\n",
      "For Mean: 5.0\n",
      "For Median: 5.0\n",
      "For IQR: 4.046938501176491\n",
      "For Entropy: 2.5175508218727822\n",
      "\n",
      "*** COVERAGE PROBABILITIES ***\n"
     ]
    },
    {
     "name": "stderr",
     "output_type": "stream",
     "text": [
      "100%|██████████| 100/100 [01:07<00:00,  1.47it/s]\n"
     ]
    },
    {
     "name": "stdout",
     "output_type": "stream",
     "text": [
      "For Mean: 0.9\n"
     ]
    },
    {
     "name": "stderr",
     "output_type": "stream",
     "text": [
      "100%|██████████| 100/100 [01:17<00:00,  1.29it/s]\n"
     ]
    },
    {
     "name": "stdout",
     "output_type": "stream",
     "text": [
      "For Median: 0.93\n"
     ]
    },
    {
     "name": "stderr",
     "output_type": "stream",
     "text": [
      "100%|██████████| 100/100 [01:08<00:00,  1.45it/s]\n"
     ]
    },
    {
     "name": "stdout",
     "output_type": "stream",
     "text": [
      "For IQR: 0.96\n"
     ]
    },
    {
     "name": "stderr",
     "output_type": "stream",
     "text": [
      "100%|██████████| 100/100 [01:13<00:00,  1.37it/s]"
     ]
    },
    {
     "name": "stdout",
     "output_type": "stream",
     "text": [
      "For Entropy: 0.56\n"
     ]
    },
    {
     "name": "stderr",
     "output_type": "stream",
     "text": [
      "\n"
     ]
    }
   ],
   "source": [
    "evaluate_all(norm, loc=5, scale=3)"
   ]
  },
  {
   "cell_type": "markdown",
   "metadata": {},
   "source": [
    "##### Cauchy(5, 9) Distribution"
   ]
  },
  {
   "cell_type": "code",
   "execution_count": 89,
   "metadata": {},
   "outputs": [
    {
     "name": "stdout",
     "output_type": "stream",
     "text": [
      "*** BOOTSTRAP CONFIDENCE INTERVALS ***\n",
      "For Mean: [-31.75345636  19.02842995]\n",
      "For Median: [5.17784845 8.08320285]\n",
      "For IQR: [ 3.60236731 14.51614878]\n"
     ]
    },
    {
     "name": "stderr",
     "output_type": "stream",
     "text": [
      "/var/folders/mg/l90d6s9536n6mfzjbqgrxffm0000gn/T/ipykernel_14340/184846182.py:8: RuntimeWarning: divide by zero encountered in log\n",
      "  return np.ma.masked_invalid(-np.log([probs[np.argmax(bin_edges >= x) - 1] for x in ecdf.cdf_func.x[1:]])).mean()\n"
     ]
    },
    {
     "name": "stdout",
     "output_type": "stream",
     "text": [
      "For Entropy: [2.5298373  3.57294999]\n",
      "\n",
      "*** TRUE PARAMETER VALUES ***\n",
      "For Mean: nan\n",
      "For Median: 5.0\n",
      "For IQR: 6.0\n",
      "For Entropy: 3.6296365356374007\n",
      "\n",
      "*** COVERAGE PROBABILITIES ***\n"
     ]
    },
    {
     "name": "stderr",
     "output_type": "stream",
     "text": [
      "100%|██████████| 100/100 [01:11<00:00,  1.41it/s]\n"
     ]
    },
    {
     "name": "stdout",
     "output_type": "stream",
     "text": [
      "For Mean: 0.0\n"
     ]
    },
    {
     "name": "stderr",
     "output_type": "stream",
     "text": [
      "100%|██████████| 100/100 [01:21<00:00,  1.22it/s]\n"
     ]
    },
    {
     "name": "stdout",
     "output_type": "stream",
     "text": [
      "For Median: 0.94\n"
     ]
    },
    {
     "name": "stderr",
     "output_type": "stream",
     "text": [
      "100%|██████████| 100/100 [01:11<00:00,  1.41it/s]\n"
     ]
    },
    {
     "name": "stdout",
     "output_type": "stream",
     "text": [
      "For IQR: 0.96\n"
     ]
    },
    {
     "name": "stderr",
     "output_type": "stream",
     "text": [
      "100%|██████████| 100/100 [01:15<00:00,  1.32it/s]"
     ]
    },
    {
     "name": "stdout",
     "output_type": "stream",
     "text": [
      "For Entropy: 0.56\n"
     ]
    },
    {
     "name": "stderr",
     "output_type": "stream",
     "text": [
      "\n"
     ]
    }
   ],
   "source": [
    "evaluate_all(cauchy, loc=5, scale=3)"
   ]
  },
  {
   "cell_type": "markdown",
   "metadata": {},
   "source": [
    "##### 1/2 * Normal(5, 1) + 1/2 * Cauchy(10, 1) Distribution"
   ]
  },
  {
   "cell_type": "code",
   "execution_count": 90,
   "metadata": {},
   "outputs": [],
   "source": [
    "class MixNormCauchy(stats.rv_continuous):\n",
    "    def __init__(self, xtol = 1e-14, seed = None):\n",
    "        super().__init__(xtol=xtol, seed=seed)\n",
    "\n",
    "    def _cdf(self, x, *args, **kwds):\n",
    "        args, loc, scale = self._parse_args(*args, **kwds)\n",
    "        x, loc, scale = map(np.asarray, (x, loc, scale))\n",
    "        args = tuple(map(np.asarray, args))\n",
    "        return (norm.cdf(x, loc=loc) + cauchy.cdf(x, loc=2*loc))/2\n",
    "    \n",
    "    # def monte_mean(self, num_monte_carlo:int = 100): # it is faster than finding mean by integration\n",
    "    #     return np.mean(self.rvs(size=num_monte_carlo))\n",
    "    \n",
    "    # def _entropy(self, num_monte_carlo:int = 100): # doing integration gives unstable result\n",
    "    #     return np.mean(-np.log(self._pdf(self.rvs(size=num_monte_carlo))))"
   ]
  },
  {
   "cell_type": "code",
   "execution_count": 91,
   "metadata": {},
   "outputs": [],
   "source": [
    "cust_mix_rv = MixNormCauchy()"
   ]
  },
  {
   "cell_type": "code",
   "execution_count": 92,
   "metadata": {},
   "outputs": [
    {
     "name": "stdout",
     "output_type": "stream",
     "text": [
      "*** BOOTSTRAP CONFIDENCE INTERVALS ***\n"
     ]
    },
    {
     "name": "stderr",
     "output_type": "stream",
     "text": [
      "/Users/rishideychowdhury/Desktop/M.STAT. 1ST YEAR/ASSIGNMENTS/RESAMPLING-TECHNIQUES/env/lib/python3.8/site-packages/scipy/stats/_distn_infrastructure.py:2041: IntegrationWarning: The integral is probably divergent, or slowly convergent.\n",
      "  return integrate.quad(self._mom_integ1, 0, 1, args=(m,)+args)[0]\n",
      "/Users/rishideychowdhury/Desktop/M.STAT. 1ST YEAR/ASSIGNMENTS/RESAMPLING-TECHNIQUES/env/lib/python3.8/site-packages/scipy/stats/_distn_infrastructure.py:2788: RuntimeWarning: invalid value encountered in sqrt\n",
      "  Shat = sqrt(mu2hat / mu2)\n"
     ]
    },
    {
     "name": "stdout",
     "output_type": "stream",
     "text": [
      "For Mean: [ 2.59602667 13.60920197]\n",
      "For Median: [4.36592086 5.76353503]\n",
      "For IQR: [0.90459326 2.96649989]\n"
     ]
    },
    {
     "name": "stderr",
     "output_type": "stream",
     "text": [
      "/var/folders/mg/l90d6s9536n6mfzjbqgrxffm0000gn/T/ipykernel_14340/184846182.py:8: RuntimeWarning: divide by zero encountered in log\n",
      "  return np.ma.masked_invalid(-np.log([probs[np.argmax(bin_edges >= x) - 1] for x in ecdf.cdf_func.x[1:]])).mean()\n"
     ]
    },
    {
     "name": "stdout",
     "output_type": "stream",
     "text": [
      "For Entropy: [1.13437559 2.10100139]\n",
      "\n",
      "*** TRUE PARAMETER VALUES ***\n",
      "For Mean: 4.99999999999999\n",
      "For Median: 5.0\n",
      "For IQR: 1.5879546167017224\n",
      "For Entropy: -inf\n",
      "\n",
      "*** COVERAGE PROBABILITIES ***\n"
     ]
    },
    {
     "name": "stderr",
     "output_type": "stream",
     "text": [
      "100%|██████████| 100/100 [04:27<00:00,  2.67s/it]\n"
     ]
    },
    {
     "name": "stdout",
     "output_type": "stream",
     "text": [
      "For Mean: 1.0\n"
     ]
    },
    {
     "name": "stderr",
     "output_type": "stream",
     "text": [
      "100%|██████████| 100/100 [04:35<00:00,  2.75s/it]\n"
     ]
    },
    {
     "name": "stdout",
     "output_type": "stream",
     "text": [
      "For Median: 0.96\n"
     ]
    },
    {
     "name": "stderr",
     "output_type": "stream",
     "text": [
      "100%|██████████| 100/100 [04:30<00:00,  2.71s/it]\n"
     ]
    },
    {
     "name": "stdout",
     "output_type": "stream",
     "text": [
      "For IQR: 1.0\n"
     ]
    },
    {
     "name": "stderr",
     "output_type": "stream",
     "text": [
      "100%|██████████| 100/100 [04:42<00:00,  2.83s/it]"
     ]
    },
    {
     "name": "stdout",
     "output_type": "stream",
     "text": [
      "For Entropy: 0.0\n"
     ]
    },
    {
     "name": "stderr",
     "output_type": "stream",
     "text": [
      "\n"
     ]
    }
   ],
   "source": [
    "evaluate_all(cust_mix_rv, loc=5, fs=1)"
   ]
  },
  {
   "cell_type": "markdown",
   "metadata": {},
   "source": [
    "#### Jackknife"
   ]
  },
  {
   "cell_type": "markdown",
   "metadata": {},
   "source": [
    "I used leave $3$ out Jackknife here."
   ]
  },
  {
   "cell_type": "code",
   "execution_count": 101,
   "metadata": {},
   "outputs": [],
   "source": [
    "def emp_entropy(sample_data):\n",
    "    iqr = np.quantile(sample_data, 3/4, method='lower') - np.quantile(sample_data, 1/4, method='lower')\n",
    "    h = 2 * iqr * np.float_power(len(sample_data), -1/3)\n",
    "    num_bins = int((np.max(sample_data) - np.min(sample_data)) // h)\n",
    "    probs, bin_edges = np.histogram(sample_data, density=True, bins=num_bins)\n",
    "    bin_edges =  np.concatenate([[-np.inf], bin_edges, [np.inf]])\n",
    "    probs = np.concatenate([[0.0], probs, [0.0]])\n",
    "    return np.ma.masked_invalid(-np.log([probs[np.argmax(bin_edges >= x) - 1] for x in sample_data])).mean()"
   ]
  },
  {
   "cell_type": "code",
   "execution_count": 102,
   "metadata": {},
   "outputs": [],
   "source": [
    "def d_jackknife(RV, statistic, sample_size: int = SAMPLE_SIZE, d = 3, **kwargs):\n",
    "\n",
    "    # get the sample\n",
    "    sample_data = RV.rvs(size=sample_size, **kwargs)\n",
    "\n",
    "    # get full sample point estimate\n",
    "    point_estimate = statistic(sample_data)\n",
    "\n",
    "    # gets the resampled data i.e. leave d out sample data\n",
    "    resampled_data = np.array([np.delete(sample_data, idxs) for idxs in itertools.combinations(list(range(len(sample_data))), d)])\n",
    "\n",
    "    # get the resampled data point estimates\n",
    "    resampled_point_estimates = np.array(\n",
    "        [np.sqrt(sample_size * (sample_size-d) / d) * (statistic(res_dat) - point_estimate) for res_dat in resampled_data])\n",
    "\n",
    "    # gets the resampled data statistic's ecdf\n",
    "    resampled_statistic_ecdf = CustomCDFRV(ECDF(resampled_point_estimates))\n",
    "\n",
    "    return np.array([point_estimate + resampled_statistic_ecdf.ppf(0.025)/np.sqrt(sample_size), point_estimate + \n",
    "            resampled_statistic_ecdf.ppf(0.975)/np.sqrt(sample_size)])"
   ]
  },
  {
   "cell_type": "code",
   "execution_count": 103,
   "metadata": {},
   "outputs": [],
   "source": [
    "def evaluate_all(RV, **kwargs):\n",
    "    print('*** BOOTSTRAP CONFIDENCE INTERVALS ***')\n",
    "    print('For Mean:', d_jackknife(RV, lambda data: data.mean(), **kwargs))\n",
    "    print('For Median:', d_jackknife(RV, lambda data: np.quantile(data, 1/2, method='lower'), **kwargs))\n",
    "    print('For IQR:', d_jackknife(RV, lambda data: np.quantile(data, 3/4, method='lower') - np.quantile(data, 1/4, method='lower'), **kwargs))\n",
    "    print('For Entropy:', d_jackknife(RV, emp_entropy, **kwargs))\n",
    "\n",
    "    true_mean = RV.mean(**kwargs)\n",
    "    true_median = RV.median(**kwargs)\n",
    "    true_iqr = RV.ppf(3/4, **kwargs) - RV.ppf(1/4, **kwargs)\n",
    "    true_entropy = RV.entropy(**kwargs)\n",
    "\n",
    "    print()\n",
    "    print('*** TRUE PARAMETER VALUES ***')\n",
    "    print('For Mean:', true_mean)\n",
    "    print('For Median:', true_median)\n",
    "    print('For IQR:', true_iqr)\n",
    "    print('For Entropy:', true_entropy)\n",
    "\n",
    "    print()\n",
    "    print('*** COVERAGE PROBABILITIES ***')\n",
    "    print('For Mean:', np.mean([np.sum(d_jackknife(RV, lambda data: data.mean(), **kwargs) <= true_mean) == 1 for _ in tqdm(range(COVERAGE_PROB_ITERS))]))\n",
    "    print('For Median:', np.mean([np.sum(d_jackknife(RV, lambda data: np.quantile(data, 1/2, method='lower'), **kwargs) <= true_median) == 1 for _ in tqdm(range(COVERAGE_PROB_ITERS))]))\n",
    "    print('For IQR:', np.mean([np.sum(d_jackknife(RV, lambda data: np.quantile(data, 3/4, method='lower') - np.quantile(data, 1/4, method='lower'), **kwargs) <= true_iqr) == 1 for _ in tqdm(range(COVERAGE_PROB_ITERS))]))\n",
    "    print('For Entropy:', np.mean([np.sum(d_jackknife(norm, emp_entropy, **kwargs) <= true_entropy) == 1 for _ in tqdm(range(COVERAGE_PROB_ITERS))]))"
   ]
  },
  {
   "cell_type": "markdown",
   "metadata": {},
   "source": [
    "##### Normal(0, 1) Distribution"
   ]
  },
  {
   "cell_type": "code",
   "execution_count": 104,
   "metadata": {},
   "outputs": [
    {
     "name": "stdout",
     "output_type": "stream",
     "text": [
      "*** BOOTSTRAP CONFIDENCE INTERVALS ***\n",
      "For Mean: [-0.11050515  0.94982404]\n",
      "For Median: [-0.20374528  0.04447268]\n",
      "For IQR: [1.08843927 3.53965701]\n"
     ]
    },
    {
     "name": "stderr",
     "output_type": "stream",
     "text": [
      "/var/folders/mg/l90d6s9536n6mfzjbqgrxffm0000gn/T/ipykernel_14340/2537570582.py:8: RuntimeWarning: divide by zero encountered in log\n",
      "  return np.ma.masked_invalid(-np.log([probs[np.argmax(bin_edges >= x) - 1] for x in sample_data])).mean()\n"
     ]
    },
    {
     "name": "stdout",
     "output_type": "stream",
     "text": [
      "For Entropy: [0.19923662 1.24437761]\n",
      "\n",
      "*** TRUE PARAMETER VALUES ***\n",
      "For Mean: 0.0\n",
      "For Median: 0.0\n",
      "For IQR: 1.3489795003921634\n",
      "For Entropy: 1.4189385332046727\n",
      "\n",
      "*** COVERAGE PROBABILITIES ***\n"
     ]
    },
    {
     "name": "stderr",
     "output_type": "stream",
     "text": [
      "100%|██████████| 100/100 [00:00<00:00, 100.48it/s]\n"
     ]
    },
    {
     "name": "stdout",
     "output_type": "stream",
     "text": [
      "For Mean: 0.97\n"
     ]
    },
    {
     "name": "stderr",
     "output_type": "stream",
     "text": [
      "100%|██████████| 100/100 [00:02<00:00, 36.61it/s]\n"
     ]
    },
    {
     "name": "stdout",
     "output_type": "stream",
     "text": [
      "For Median: 0.7\n"
     ]
    },
    {
     "name": "stderr",
     "output_type": "stream",
     "text": [
      "100%|██████████| 100/100 [00:04<00:00, 21.81it/s]\n"
     ]
    },
    {
     "name": "stdout",
     "output_type": "stream",
     "text": [
      "For IQR: 0.82\n"
     ]
    },
    {
     "name": "stderr",
     "output_type": "stream",
     "text": [
      "100%|██████████| 100/100 [00:15<00:00,  6.48it/s]"
     ]
    },
    {
     "name": "stdout",
     "output_type": "stream",
     "text": [
      "For Entropy: 0.35\n"
     ]
    },
    {
     "name": "stderr",
     "output_type": "stream",
     "text": [
      "\n"
     ]
    }
   ],
   "source": [
    "evaluate_all(norm)"
   ]
  },
  {
   "cell_type": "markdown",
   "metadata": {},
   "source": [
    "##### Normal(5, 1) Distribution"
   ]
  },
  {
   "cell_type": "code",
   "execution_count": 105,
   "metadata": {},
   "outputs": [
    {
     "name": "stdout",
     "output_type": "stream",
     "text": [
      "*** BOOTSTRAP CONFIDENCE INTERVALS ***\n",
      "For Mean: [4.76069716 5.48552068]\n",
      "For Median: [5.10458089 5.64537977]\n",
      "For IQR: [0.82292554 2.92503926]\n"
     ]
    },
    {
     "name": "stderr",
     "output_type": "stream",
     "text": [
      "/var/folders/mg/l90d6s9536n6mfzjbqgrxffm0000gn/T/ipykernel_14340/2537570582.py:8: RuntimeWarning: divide by zero encountered in log\n",
      "  return np.ma.masked_invalid(-np.log([probs[np.argmax(bin_edges >= x) - 1] for x in sample_data])).mean()\n"
     ]
    },
    {
     "name": "stdout",
     "output_type": "stream",
     "text": [
      "For Entropy: [0.82201923 1.4371317 ]\n",
      "\n",
      "*** TRUE PARAMETER VALUES ***\n",
      "For Mean: 5.0\n",
      "For Median: 5.0\n",
      "For IQR: 1.3489795003921632\n",
      "For Entropy: 1.4189385332046727\n",
      "\n",
      "*** COVERAGE PROBABILITIES ***\n"
     ]
    },
    {
     "name": "stderr",
     "output_type": "stream",
     "text": [
      "100%|██████████| 100/100 [00:00<00:00, 100.79it/s]\n"
     ]
    },
    {
     "name": "stdout",
     "output_type": "stream",
     "text": [
      "For Mean: 0.92\n"
     ]
    },
    {
     "name": "stderr",
     "output_type": "stream",
     "text": [
      "100%|██████████| 100/100 [00:02<00:00, 36.42it/s]\n"
     ]
    },
    {
     "name": "stdout",
     "output_type": "stream",
     "text": [
      "For Median: 0.76\n"
     ]
    },
    {
     "name": "stderr",
     "output_type": "stream",
     "text": [
      "100%|██████████| 100/100 [00:04<00:00, 21.62it/s]\n"
     ]
    },
    {
     "name": "stdout",
     "output_type": "stream",
     "text": [
      "For IQR: 0.75\n"
     ]
    },
    {
     "name": "stderr",
     "output_type": "stream",
     "text": [
      "100%|██████████| 100/100 [00:15<00:00,  6.55it/s]"
     ]
    },
    {
     "name": "stdout",
     "output_type": "stream",
     "text": [
      "For Entropy: 0.32\n"
     ]
    },
    {
     "name": "stderr",
     "output_type": "stream",
     "text": [
      "\n"
     ]
    }
   ],
   "source": [
    "evaluate_all(norm, loc=5)"
   ]
  },
  {
   "cell_type": "markdown",
   "metadata": {},
   "source": [
    "##### Normal(5, 9) Distribution"
   ]
  },
  {
   "cell_type": "code",
   "execution_count": 106,
   "metadata": {},
   "outputs": [
    {
     "name": "stderr",
     "output_type": "stream",
     "text": [
      "/var/folders/mg/l90d6s9536n6mfzjbqgrxffm0000gn/T/ipykernel_14340/2537570582.py:8: RuntimeWarning: divide by zero encountered in log\n",
      "  return np.ma.masked_invalid(-np.log([probs[np.argmax(bin_edges >= x) - 1] for x in sample_data])).mean()\n"
     ]
    },
    {
     "name": "stdout",
     "output_type": "stream",
     "text": [
      "*** BOOTSTRAP CONFIDENCE INTERVALS ***\n",
      "For Mean: [4.68493257 7.28574526]\n",
      "For Median: [-0.89287618  7.91335492]\n",
      "For IQR: [1.31207675 4.64403241]\n",
      "For Entropy: [1.68328412 2.11231588]\n",
      "\n",
      "*** TRUE PARAMETER VALUES ***\n",
      "For Mean: 5.0\n",
      "For Median: 5.0\n",
      "For IQR: 4.046938501176491\n",
      "For Entropy: 2.5175508218727822\n",
      "\n",
      "*** COVERAGE PROBABILITIES ***\n"
     ]
    },
    {
     "name": "stderr",
     "output_type": "stream",
     "text": [
      "100%|██████████| 100/100 [00:00<00:00, 100.60it/s]\n"
     ]
    },
    {
     "name": "stdout",
     "output_type": "stream",
     "text": [
      "For Mean: 0.94\n"
     ]
    },
    {
     "name": "stderr",
     "output_type": "stream",
     "text": [
      "100%|██████████| 100/100 [00:02<00:00, 35.94it/s]\n"
     ]
    },
    {
     "name": "stdout",
     "output_type": "stream",
     "text": [
      "For Median: 0.76\n"
     ]
    },
    {
     "name": "stderr",
     "output_type": "stream",
     "text": [
      "100%|██████████| 100/100 [00:04<00:00, 21.88it/s]\n"
     ]
    },
    {
     "name": "stdout",
     "output_type": "stream",
     "text": [
      "For IQR: 0.76\n"
     ]
    },
    {
     "name": "stderr",
     "output_type": "stream",
     "text": [
      "100%|██████████| 100/100 [00:15<00:00,  6.55it/s]"
     ]
    },
    {
     "name": "stdout",
     "output_type": "stream",
     "text": [
      "For Entropy: 0.35\n"
     ]
    },
    {
     "name": "stderr",
     "output_type": "stream",
     "text": [
      "\n"
     ]
    }
   ],
   "source": [
    "evaluate_all(norm, loc=5, scale=3)"
   ]
  },
  {
   "cell_type": "markdown",
   "metadata": {},
   "source": [
    "##### Cauchy(5, 9) Distribution"
   ]
  },
  {
   "cell_type": "code",
   "execution_count": 107,
   "metadata": {},
   "outputs": [
    {
     "name": "stderr",
     "output_type": "stream",
     "text": [
      "/var/folders/mg/l90d6s9536n6mfzjbqgrxffm0000gn/T/ipykernel_14340/2537570582.py:8: RuntimeWarning: divide by zero encountered in log\n",
      "  return np.ma.masked_invalid(-np.log([probs[np.argmax(bin_edges >= x) - 1] for x in sample_data])).mean()\n"
     ]
    },
    {
     "name": "stdout",
     "output_type": "stream",
     "text": [
      "*** BOOTSTRAP CONFIDENCE INTERVALS ***\n",
      "For Mean: [0.80157654 4.92630639]\n",
      "For Median: [3.14922966 6.58503558]\n",
      "For IQR: [-0.95228441  4.76771224]\n",
      "For Entropy: [2.42204078 3.54312769]\n",
      "\n",
      "*** TRUE PARAMETER VALUES ***\n",
      "For Mean: nan\n",
      "For Median: 5.0\n",
      "For IQR: 6.0\n",
      "For Entropy: 3.6296365356374007\n",
      "\n",
      "*** COVERAGE PROBABILITIES ***\n"
     ]
    },
    {
     "name": "stderr",
     "output_type": "stream",
     "text": [
      "100%|██████████| 100/100 [00:00<00:00, 101.59it/s]\n"
     ]
    },
    {
     "name": "stdout",
     "output_type": "stream",
     "text": [
      "For Mean: 0.0\n"
     ]
    },
    {
     "name": "stderr",
     "output_type": "stream",
     "text": [
      "100%|██████████| 100/100 [00:02<00:00, 36.74it/s]\n"
     ]
    },
    {
     "name": "stdout",
     "output_type": "stream",
     "text": [
      "For Median: 0.75\n"
     ]
    },
    {
     "name": "stderr",
     "output_type": "stream",
     "text": [
      "100%|██████████| 100/100 [00:04<00:00, 21.73it/s]\n"
     ]
    },
    {
     "name": "stdout",
     "output_type": "stream",
     "text": [
      "For IQR: 0.76\n"
     ]
    },
    {
     "name": "stderr",
     "output_type": "stream",
     "text": [
      "100%|██████████| 100/100 [00:15<00:00,  6.55it/s]"
     ]
    },
    {
     "name": "stdout",
     "output_type": "stream",
     "text": [
      "For Entropy: 0.0\n"
     ]
    },
    {
     "name": "stderr",
     "output_type": "stream",
     "text": [
      "\n"
     ]
    }
   ],
   "source": [
    "evaluate_all(cauchy, loc=5, scale=3)"
   ]
  },
  {
   "cell_type": "markdown",
   "metadata": {},
   "source": [
    "##### 1/2 * Normal(5, 1) + 1/2 * Cauchy(10, 1) Distribution"
   ]
  },
  {
   "cell_type": "code",
   "execution_count": 108,
   "metadata": {},
   "outputs": [
    {
     "name": "stderr",
     "output_type": "stream",
     "text": [
      "/var/folders/mg/l90d6s9536n6mfzjbqgrxffm0000gn/T/ipykernel_14340/2537570582.py:8: RuntimeWarning: divide by zero encountered in log\n",
      "  return np.ma.masked_invalid(-np.log([probs[np.argmax(bin_edges >= x) - 1] for x in sample_data])).mean()\n"
     ]
    },
    {
     "name": "stdout",
     "output_type": "stream",
     "text": [
      "*** BOOTSTRAP CONFIDENCE INTERVALS ***\n",
      "For Mean: [4.99979314 7.14813206]\n",
      "For Median: [5.19237486 6.73772502]\n",
      "For IQR: [3.91109829 6.51280264]\n",
      "For Entropy: [1.20193834 2.73690367]\n",
      "\n",
      "*** TRUE PARAMETER VALUES ***\n",
      "For Mean: 7.500000000000184\n",
      "For Median: 6.368752841046282\n",
      "For IQR: 5.153524566844071\n",
      "For Entropy: 2.4161299833945207\n",
      "\n",
      "*** COVERAGE PROBABILITIES ***\n"
     ]
    },
    {
     "name": "stderr",
     "output_type": "stream",
     "text": [
      "100%|██████████| 100/100 [00:03<00:00, 30.37it/s]\n"
     ]
    },
    {
     "name": "stdout",
     "output_type": "stream",
     "text": [
      "For Mean: 0.95\n"
     ]
    },
    {
     "name": "stderr",
     "output_type": "stream",
     "text": [
      "100%|██████████| 100/100 [00:05<00:00, 19.66it/s]\n"
     ]
    },
    {
     "name": "stdout",
     "output_type": "stream",
     "text": [
      "For Median: 0.72\n"
     ]
    },
    {
     "name": "stderr",
     "output_type": "stream",
     "text": [
      "100%|██████████| 100/100 [00:06<00:00, 14.42it/s]\n"
     ]
    },
    {
     "name": "stdout",
     "output_type": "stream",
     "text": [
      "For IQR: 0.78\n"
     ]
    },
    {
     "name": "stderr",
     "output_type": "stream",
     "text": [
      "100%|██████████| 100/100 [00:15<00:00,  6.53it/s]"
     ]
    },
    {
     "name": "stdout",
     "output_type": "stream",
     "text": [
      "For Entropy: 0.0\n"
     ]
    },
    {
     "name": "stderr",
     "output_type": "stream",
     "text": [
      "\n"
     ]
    }
   ],
   "source": [
    "evaluate_all(CustomCDFRV(lambda x: (norm.cdf(x, loc=5, scale=1) + cauchy.cdf(x, loc=10, scale=1))/2))"
   ]
  },
  {
   "cell_type": "markdown",
   "metadata": {},
   "source": [
    "#### Asymptotic Theory"
   ]
  },
  {
   "cell_type": "markdown",
   "metadata": {},
   "source": [
    "The following results are applicable for the first $3$ family of distributions."
   ]
  },
  {
   "cell_type": "markdown",
   "metadata": {},
   "source": [
    "For mean, we use the sample mean as the estimator for the population mean and the asymptotic distribution is as follows,\n",
    "$$\\frac{\\sqrt{n}(\\bar{X}_n - \\mu)}{s_n} \\xrightarrow{d} \\mathcal{N}(0, 1)$$"
   ]
  },
  {
   "cell_type": "markdown",
   "metadata": {},
   "source": [
    "For median, we use the sample median as the estimator for the population median and the asymptotic distribution is as follows,\n",
    "$$2\\sqrt{n}f(\\xi_{\\frac{1}{2}})\\cdot(F_n^{-1}(\\frac{1}{2}) - \\xi_{\\frac{1}{2}})\\xrightarrow{d} \\mathcal{N}(0, 1)$$"
   ]
  },
  {
   "cell_type": "markdown",
   "metadata": {},
   "source": [
    "For IQR, we use the sample IQR as the estimator of the population IQR and the asymptotic distribution is as follows,\n",
    "$$\n",
    "\\sqrt{n}\\left(\\mathrm{IQR} - \\left(\\xi_{\\frac{3}{4}}-\\xi_{\\frac{1}{4}}\\right)\\right)\\xrightarrow{d} \\mathcal{N}\\left(0, \\frac{1}{16}\\left[\\frac{3}{f^{2}(\\xi_{\\frac{3}{4}})}+\\frac{3}{f^{2}(\\xi_{\\frac{1}{4}})}-\\frac{2}{f(\\xi_{\\frac{1}{4}})f(\\xi_{\\frac{3}{4}})}\\right]\\right)\n",
    "$$"
   ]
  },
  {
   "cell_type": "markdown",
   "metadata": {},
   "source": [
    "I use the histogram as seen above as a estimator for density $f$."
   ]
  },
  {
   "cell_type": "code",
   "execution_count": 137,
   "metadata": {},
   "outputs": [],
   "source": [
    "def hist_emp_pdf(sample_data, x):\n",
    "    iqr = np.quantile(sample_data, 3/4, method='lower') - np.quantile(sample_data, 1/4, method='lower')\n",
    "    h = 2 * iqr * np.float_power(len(sample_data), -1/3)\n",
    "    num_bins = int((np.max(sample_data) - np.min(sample_data)) // h)\n",
    "    probs, bin_edges = np.histogram(sample_data, density=True, bins=num_bins)\n",
    "    bin_edges =  np.concatenate([[-np.inf], bin_edges, [np.inf]])\n",
    "    probs = np.concatenate([[0.0], probs, [0.0]])\n",
    "    return probs[np.argmax(bin_edges >= x) - 1]"
   ]
  },
  {
   "cell_type": "code",
   "execution_count": 138,
   "metadata": {},
   "outputs": [],
   "source": [
    "def get_sample(RV, sample_size, **kwargs):\n",
    "    \n",
    "    # get the sample\n",
    "    sample_data = RV.rvs(size=sample_size, **kwargs)\n",
    "\n",
    "    return sample_data\n",
    "\n",
    "def get_conf_int(RV, mode = 'mean', sample_size=SAMPLE_SIZE, **kwargs):\n",
    "\n",
    "    # get the sample\n",
    "    sample_data = RV.rvs(size=sample_size, **kwargs)\n",
    "    \n",
    "    # point estimate\n",
    "    if mode == 'mean':\n",
    "        point_estimate = sample_data.mean()\n",
    "        std = np.std(sample_data, ddof=1)\n",
    "    \n",
    "    if mode == 'median':\n",
    "        point_estimate = np.quantile(sample_data, 1/2, method='lower')\n",
    "        std = 1/(2 * hist_emp_pdf(sample_data, point_estimate))\n",
    "\n",
    "    if mode == 'iqr':\n",
    "        point_estimate = np.quantile(sample_data, 3/4, method='lower') - np.quantile(sample_data, 1/4, method='lower')\n",
    "        std = (3 / (hist_emp_pdf(sample_data, np.quantile(sample_data, 3/4, method='lower'))**2)\n",
    "               + 3 / (hist_emp_pdf(sample_data, np.quantile(sample_data, 1/4, method='lower'))**2)\n",
    "               - 2 / (hist_emp_pdf(sample_data, np.quantile(sample_data, 3/4, method='lower')) * hist_emp_pdf(sample_data, np.quantile(sample_data, 1/4, method='lower')))) / 4\n",
    "    \n",
    "\n",
    "    return np.array([point_estimate - 1.96 * std / np.sqrt(sample_data.shape[0]), point_estimate + 1.96 * std / np.sqrt(sample_data.shape[0])])"
   ]
  },
  {
   "cell_type": "code",
   "execution_count": 139,
   "metadata": {},
   "outputs": [],
   "source": [
    "def evaluate_all(RV, **kwargs):\n",
    "    print('*** BOOTSTRAP CONFIDENCE INTERVALS ***')\n",
    "    print('For Mean:', get_conf_int(RV, 'mean', **kwargs))\n",
    "    print('For Median:', get_conf_int(RV, 'median', **kwargs))\n",
    "    print('For IQR:', get_conf_int(RV, 'iqr', **kwargs))\n",
    "    # print('For Entropy:', d_jackknife(RV, emp_entropy, **kwargs))\n",
    "\n",
    "    true_mean = RV.mean(**kwargs)\n",
    "    true_median = RV.median(**kwargs)\n",
    "    true_iqr = RV.ppf(3/4, **kwargs) - RV.ppf(1/4, **kwargs)\n",
    "    # true_entropy = RV.entropy(**kwargs)\n",
    "\n",
    "    print()\n",
    "    print('*** TRUE PARAMETER VALUES ***')\n",
    "    print('For Mean:', true_mean)\n",
    "    print('For Median:', true_median)\n",
    "    print('For IQR:', true_iqr)\n",
    "    # print('For Entropy:', true_entropy)\n",
    "\n",
    "    print()\n",
    "    print('*** COVERAGE PROBABILITIES ***')\n",
    "    print('For Mean:', np.mean([np.sum(get_conf_int(RV, 'mean', **kwargs) <= true_mean) == 1 for _ in range(COVERAGE_PROB_ITERS)]))\n",
    "    print('For Median:', np.mean([np.sum(get_conf_int(RV, 'median', **kwargs) <= true_median) == 1 for _ in range(COVERAGE_PROB_ITERS)]))\n",
    "    print('For IQR:', np.mean([np.sum(get_conf_int(RV, 'iqr', **kwargs) <= true_iqr) == 1 for _ in range(COVERAGE_PROB_ITERS)]))\n",
    "    # print('For Entropy:', np.mean([np.sum(d_jackknife(norm, emp_entropy, **kwargs) <= true_entropy) == 1 for _ in tqdm(range(COVERAGE_PROB_ITERS))]))"
   ]
  },
  {
   "cell_type": "markdown",
   "metadata": {},
   "source": [
    "##### Normal(0, 1) Distribution"
   ]
  },
  {
   "cell_type": "code",
   "execution_count": 140,
   "metadata": {},
   "outputs": [
    {
     "name": "stdout",
     "output_type": "stream",
     "text": [
      "*** BOOTSTRAP CONFIDENCE INTERVALS ***\n",
      "For Mean: [-0.372475    0.57972623]\n",
      "For Median: [-0.81476458  0.44249041]\n",
      "For IQR: [-3.31413579  7.10199332]\n",
      "\n",
      "*** TRUE PARAMETER VALUES ***\n",
      "For Mean: 0.0\n",
      "For Median: 0.0\n",
      "For IQR: 1.3489795003921634\n",
      "\n",
      "*** COVERAGE PROBABILITIES ***\n",
      "For Mean: 0.95\n",
      "For Median: 0.94\n",
      "For IQR: 1.0\n"
     ]
    }
   ],
   "source": [
    "evaluate_all(norm)"
   ]
  },
  {
   "cell_type": "markdown",
   "metadata": {},
   "source": [
    "##### Normal(5, 1) Distribution"
   ]
  },
  {
   "cell_type": "code",
   "execution_count": 141,
   "metadata": {},
   "outputs": [
    {
     "name": "stdout",
     "output_type": "stream",
     "text": [
      "*** BOOTSTRAP CONFIDENCE INTERVALS ***\n",
      "For Mean: [4.5818142  5.43587679]\n",
      "For Median: [4.76140365 5.73253021]\n",
      "For IQR: [-5.26806398  8.69147649]\n",
      "\n",
      "*** TRUE PARAMETER VALUES ***\n",
      "For Mean: 5.0\n",
      "For Median: 5.0\n",
      "For IQR: 1.3489795003921632\n",
      "\n",
      "*** COVERAGE PROBABILITIES ***\n",
      "For Mean: 0.91\n",
      "For Median: 0.9\n",
      "For IQR: 1.0\n"
     ]
    }
   ],
   "source": [
    "evaluate_all(norm, loc=5)"
   ]
  },
  {
   "cell_type": "markdown",
   "metadata": {},
   "source": [
    "##### Normal(5, 9) Distribution"
   ]
  },
  {
   "cell_type": "code",
   "execution_count": 142,
   "metadata": {},
   "outputs": [
    {
     "name": "stdout",
     "output_type": "stream",
     "text": [
      "*** BOOTSTRAP CONFIDENCE INTERVALS ***\n",
      "For Mean: [3.42211374 5.94054789]\n",
      "For Median: [2.39853997 6.22680545]\n",
      "For IQR: [-44.78629159  57.34472519]\n",
      "\n",
      "*** TRUE PARAMETER VALUES ***\n",
      "For Mean: 5.0\n",
      "For Median: 5.0\n",
      "For IQR: 4.046938501176491\n",
      "\n",
      "*** COVERAGE PROBABILITIES ***\n",
      "For Mean: 0.98\n",
      "For Median: 0.94\n",
      "For IQR: 1.0\n"
     ]
    }
   ],
   "source": [
    "evaluate_all(norm, loc=5, scale=3)"
   ]
  },
  {
   "cell_type": "markdown",
   "metadata": {},
   "source": [
    "### Summary of the Results and Findings"
   ]
  },
  {
   "cell_type": "markdown",
   "metadata": {},
   "source": [
    "The following are the expected confidence intervals."
   ]
  },
  {
   "cell_type": "markdown",
   "metadata": {},
   "source": [
    "## Expected Confidence Interval"
   ]
  },
  {
   "cell_type": "markdown",
   "metadata": {},
   "source": [
    "#### Standard Normal Distribution"
   ]
  },
  {
   "cell_type": "markdown",
   "metadata": {},
   "source": [
    "| Resampling Technique     | Mean                    | Median                  | IQR                     | Entropy                   |\n",
    "|--------------------------|-------------------------|-------------------------|-------------------------|---------------------------|\n",
    "| Exact Resampling         | [-0.50162051, 0.46058489] | [-0.44724029, 0.48643302] | [0.85025879, 1.92980969] | [0.90920166, 1.42997591]  |\n",
    "| Non-Parametric Bootstrapping | [-0.21189116, 0.47400186] | [-0.5582355, 0.20114741] | [0.62655702, 1.84173077] | [0.95472345, 1.4238737]   |\n",
    "| Smoothed Bootstrapping   | [0.37956001, 1.44032119] | [-0.7182745, 1.72252339] | [1.31442342, 3.03179664] | [1.0932311, 1.47212776]   |\n",
    "| Parametric Bootstrapping | [NA, NA] | [4.25652549, 5.30979888] | [0.82725383, 2.00752362] | [0.79120456, 1.49710595]  |\n",
    "| d-Jackknife              | [-0.11050515, 0.94982404] | [-0.20374528, 0.04447268] | [1.08843927, 3.53965701] | [0.19923662, 1.24437761]  |\n",
    "| Asymptotic Theory        | [-0.372475, 0.57972623] | [-0.81476458, 0.44249041] | [-3.31413579, 7.10199332] | [NA, NA]                  |\n"
   ]
  },
  {
   "cell_type": "markdown",
   "metadata": {},
   "source": [
    "#### Normal(5, 1) Distribution"
   ]
  },
  {
   "cell_type": "markdown",
   "metadata": {},
   "source": [
    "| Resampling Technique     | Mean                     | Median                   | IQR                      | Entropy                    |\n",
    "|--------------------------|--------------------------|--------------------------|--------------------------|----------------------------|\n",
    "| Exact Resampling         | [4.53342066, 5.34385121] | [4.66192238, 5.54904764] | [0.78117713, 1.9739037]  | [0.81874155, 1.4221989]    |\n",
    "| Non-Parametric Bootstrapping | [4.54407847, 5.86331687] | [5.19154826, 5.58311259] | [0.43862485, 2.50004286] | [0.69228039, 1.20404541]   |\n",
    "| Smoothed Bootstrapping   | [4.9678375, 6.12508014]  | [4.28781672, 6.58786756] | [1.39739952, 2.8337963]  | [0.07039372, 0.93735559]   |\n",
    "| Parametric Bootstrapping | [4.55784072, 5.35014026] | [4.25652549, 5.30979888] | [0.82725383, 2.00752362] | [0.79120456, 1.49710595]   |\n",
    "| d-Jackknife              | [4.76069716, 5.48552068] | [5.10458089, 5.64537977] | [0.82292554, 2.92503926] | [0.82201923, 1.4371317]    |\n",
    "| Asymptotic Theory        | [4.5818142, 5.43587679]  | [4.76140365, 5.73253021] | [-5.26806398, 8.69147649] | [NA, NA]                   |\n"
   ]
  },
  {
   "cell_type": "markdown",
   "metadata": {},
   "source": [
    "#### Normal(5, 9) Distribution"
   ]
  },
  {
   "cell_type": "markdown",
   "metadata": {},
   "source": [
    "| Resampling Technique     | Mean                     | Median                   | IQR                      | Entropy                    |\n",
    "|--------------------------|--------------------------|--------------------------|--------------------------|----------------------------|\n",
    "| Exact Resampling         | [3.64363594, 6.30702352] | [3.89787655, 7.07393481] | [2.08583044, 5.20921586] | [1.86699938, 2.61216594]   |\n",
    "| Non-Parametric Bootstrapping | [2.90109661, 4.83245616] | [3.54515963, 7.51430283] | [1.93222055, 6.94140671] | [2.03881469, 2.43126985]   |\n",
    "| Smoothed Bootstrapping   | [7.55407692, 11.74544434] | [3.45838119, 8.2923204]  | [4.60340286, 12.94796089] | [1.83713415, 2.24751639]   |\n",
    "| Parametric Bootstrapping | [3.42448174, 5.67431746] | [4.79231939, 7.52415556] | [1.47959081, 4.58257527] | [2.03785279, 2.62053982]   |\n",
    "| d-Jackknife              | [4.68493257, 7.28574526] | [-0.89287618, 7.91335492] | [1.31207675, 4.64403241] | [1.68328412, 2.11231588]   |\n",
    "| Asymptotic Theory        | [3.42211374, 5.94054789] | [2.39853997, 6.22680545] | [-44.78629159, 57.34472519] | [NA, NA]                   |\n"
   ]
  },
  {
   "cell_type": "markdown",
   "metadata": {},
   "source": [
    "#### Cauchy(5, 9) Distribution"
   ]
  },
  {
   "cell_type": "markdown",
   "metadata": {},
   "source": [
    "| Resampling Technique     | Mean                     | Median                   | IQR                      | Entropy                    |\n",
    "|--------------------------|--------------------------|--------------------------|--------------------------|----------------------------|\n",
    "| Exact Resampling         | [-25.43186907, 44.29733189] | [3.05560127, 8.69550191] | [3.28674209, 14.15490763] | [2.35118421, 3.84739899]   |\n",
    "| Non-Parametric Bootstrapping | [2.57912799, 21.31019478] | [3.89168833, 8.7548592]  | [2.86052313, 20.96148041] | [2.32940523, 4.34997666]   |\n",
    "| Smoothed Bootstrapping   | [6.01155396, 11.16804623] | [4.09035856, 26.41916247] | [128.86722781, 314.50691924] | [4.16669986, 4.4567505]    |\n",
    "| Parametric Bootstrapping | [-31.75345636, 19.02842995] | [5.17784845, 8.08320285] | [3.60236731, 14.51614878] | [2.5298373, 3.57294999]    |\n",
    "| d-Jackknife              | [0.80157654, 4.92630639] | [3.14922966, 6.58503558] | [-0.95228441, 4.76771224] | [2.42204078, 3.54312769]   |\n"
   ]
  },
  {
   "cell_type": "markdown",
   "metadata": {},
   "source": [
    "##### 1/2 * Normal(5, 1) + 1/2 * Cauchy(10, 1) Distribution"
   ]
  },
  {
   "cell_type": "markdown",
   "metadata": {},
   "source": [
    "| Resampling Technique     | Mean                     | Median                   | IQR                      | Entropy                    |\n",
    "|--------------------------|--------------------------|--------------------------|--------------------------|----------------------------|\n",
    "| Exact Resampling         | [3.5957454, 14.10338629] | [5.2445834, 9.79953697]  | [2.11966964, 6.47262403] | [1.86530187, 2.69646429]   |\n",
    "| Non-Parametric Bootstrapping | [7.44585701, 11.71170629] | [4.95979594, 9.36897526] | [4.02626404, 6.73763352] | [1.8393712, 2.6346163]     |\n",
    "| Smoothed Bootstrapping   | [9.93029769, 13.5951231] | [2.02599997, 10.42763695] | [2.97169496, 7.22987251] | [1.1231342, 2.6356163]     |\n",
    "| Parametric Bootstrapping | [2.59602667, 13.60920197] | [4.36592086, 5.76353503] | [0.90459326, 2.96649989] | [1.13437559, 2.10100139]   |\n",
    "| d-Jackknife              | [4.99979314, 7.14813206] | [5.19237486, 6.73772502] | [3.91109829, 6.51280264] | [1.20193834, 2.73690367]   |\n"
   ]
  },
  {
   "cell_type": "markdown",
   "metadata": {},
   "source": [
    "## Expected Interval Lengths"
   ]
  },
  {
   "cell_type": "markdown",
   "metadata": {},
   "source": [
    "Here's a comparison of Monte Carlo expected interval lengths for each resampling method across various distributions:\n",
    "\n",
    "#### Standard Normal Distribution\n",
    "| Resampling Technique     | Mean Interval Length    | Median Interval Length  | IQR Interval Length     | Entropy Interval Length |\n",
    "|--------------------------|-------------------------|-------------------------|-------------------------|-------------------------|\n",
    "| Exact Resampling         | 0.96220540              | 0.93367331              | 1.07955090              | 0.52077425              |\n",
    "| Non-Parametric Bootstrapping | 0.68589302              | 0.75938291              | 1.21517375              | 0.46915025              |\n",
    "| Smoothed Bootstrapping   | 1.06076118              | 2.44079789              | 1.71737322              | 0.37889666              |\n",
    "| d-Jackknife              | 1.06032919              | 0.24821795              | 2.45121774              | 1.04514099              |\n",
    "| Asymptotic Theory        | 0.95220123              | 1.25725599              | 10.41612911             | NA                      |\n",
    "\n",
    "#### Normal(5, 1) Distribution\n",
    "| Resampling Technique     | Mean Interval Length    | Median Interval Length  | IQR Interval Length     | Entropy Interval Length |\n",
    "|--------------------------|-------------------------|-------------------------|-------------------------|-------------------------|\n",
    "| Exact Resampling         | 0.81043055              | 0.88712526              | 1.19272657              | 0.60345735              |\n",
    "| Non-Parametric Bootstrapping | 1.31923840              | 0.39256433              | 2.06141801              | 0.51176402              |\n",
    "| Smoothed Bootstrapping   | 1.15724264              | 2.30005084              | 1.43639678              | 0.86696187              |\n",
    "| Parametric Bootstrapping | 0.79229954              | 0.10527339              | 1.18026979              | 0.70595039              |\n",
    "| d-Jackknife              | 0.72482352              | 0.54079888              | 2.10211372              | 0.61411147              |\n",
    "| Asymptotic Theory        | 0.85406259              | 0.97112656              | 14.95954047             | NA                      |\n",
    "\n",
    "#### Normal(5, 9) Distribution\n",
    "| Resampling Technique     | Mean Interval Length    | Median Interval Length  | IQR Interval Length     | Entropy Interval Length |\n",
    "|--------------------------|-------------------------|-------------------------|-------------------------|-------------------------|\n",
    "| Exact Resampling         | 2.66338758              | 3.17605825              | 3.12338542              | 0.74516656              |\n",
    "| Non-Parametric Bootstrapping | 1.93135955              | 3.96914320              | 5.00918616              | 0.39245516              |\n",
    "| Smoothed Bootstrapping   | 4.19136742              | 4.83393921              | 8.34455803              | 0.41038224              |\n",
    "| Parametric Bootstrapping | 2.24983572              | 2.73183617              | 3.10298446              | 0.58268703              |\n",
    "| d-Jackknife              | 2.60081269              | 8.8062311               | 3.33195566              | 0.42903176              |\n",
    "| Asymptotic Theory        | 2.51843415              | 3.82826548              | 102.06500878            | NA                      |\n",
    "\n",
    "#### Cauchy(5, 9) Distribution\n",
    "| Resampling Technique     | Mean Interval Length    | Median Interval Length  | IQR Interval Length     | Entropy Interval Length |\n",
    "|--------------------------|-------------------------|-------------------------|-------------------------|-------------------------|\n",
    "| Exact Resampling         | 69.72960196             | 5.63990064              | 10.86816555             | 1.49621478              |\n",
    "| Non-Parametric Bootstrapping | 18.73106679             | 4.86317087              | 18.10095728             | 2.02057143              |\n",
    "| Smoothed Bootstrapping   | 5.15649227              | 22.32880391             | 185.63934543            | 0.29005064              |\n",
    "| Parametric Bootstrapping | 50.39088631             | 2.90535440              | 10.91378147             | 1.04311269              |\n",
    "| d-Jackknife              | 4.12472985              | 3.43580592              | 5.71999666              | 1.12108691              |\n",
    "\n",
    "#### 1/2 * Normal(5, 1) + 1/2 * Cauchy(10, 1) Distribution\n",
    "| Resampling Technique     | Mean Interval Length    | Median Interval Length  | IQR Interval Length     | Entropy Interval Length |\n",
    "|--------------------------|-------------------------|-------------------------|-------------------------|-------------------------|\n",
    "| Exact Resampling         | 10.50764089             | 3.44494643              | 4.35295439              | 0.83116242              |\n",
    "| Non-Parametric Bootstrapping | 4.26584928              | 4.40918036              | 2.71136948              | 0.7952441               |\n",
    "| Smoothed Bootstrapping   | 3.66482541              | 8.40163698              | 4.25817755              | 1.5124811               |\n",
    "| Parametric Bootstrapping | 11.0131753              | 1.39761417              | 2.06190662              | 0.9666258               |\n",
    "| d-Jackknife              | 2.14833892              | 1.54535016              | 2.60170435              | 1.53496533              |"
   ]
  },
  {
   "cell_type": "markdown",
   "metadata": {},
   "source": [
    "## Coverage Probabilities"
   ]
  },
  {
   "cell_type": "markdown",
   "metadata": {},
   "source": [
    "Below are the coverage probabilities,"
   ]
  },
  {
   "cell_type": "markdown",
   "metadata": {},
   "source": [
    "#### Standard Normal Distribution\n",
    "\n",
    "| Resampling Technique     | Mean | Median | IQR | Entropy |\n",
    "|--------------------------|------|--------|-----|---------|\n",
    "| Exact Resampling         | 1.0  | 1.0    | 1.0 | 0.92    |\n",
    "| Non-Parametric Bootstrapping | 0.88 | 0.89   | 0.99| 0.25    |\n",
    "| Smoothed Bootstrapping   | 0.51 | 0.68   | 0.76| 0.22    |\n",
    "| d-Jackknife              | 0.97 | 0.7    | 0.82| 0.35    |\n",
    "| Asymptotic Theory        | 0.95 | 0.94   | 1.0 | NA      |"
   ]
  },
  {
   "cell_type": "markdown",
   "metadata": {},
   "source": [
    "#### Normal(5, 1) Distribution\n",
    "\n",
    "| Resampling Technique     | Mean | Median | IQR | Entropy |\n",
    "|--------------------------|------|--------|-----|---------|\n",
    "| Exact Resampling         | 1.0  | 1.0    | 1.0 | 0.89    |\n",
    "| Non-Parametric Bootstrapping | 0.9  | 0.89   | 0.99| 0.21    |\n",
    "| Smoothed Bootstrapping   | 0.54 | 0.7    | 0.66| 0.21    |\n",
    "| Parametric Bootstrapping | 0.92 | 0.95   | 1.0 | 0.92    |\n",
    "| d-Jackknife              | 0.92 | 0.76   | 0.75| 0.32    |\n",
    "| Asymptotic Theory        | 0.91 | 0.9    | 1.0 | NA      |"
   ]
  },
  {
   "cell_type": "markdown",
   "metadata": {},
   "source": [
    "#### Normal(5, 9) Distribution\n",
    "\n",
    "| Resampling Technique     | Mean | Median | IQR | Entropy |\n",
    "|--------------------------|------|--------|-----|---------|\n",
    "| Exact Resampling         | 1.0  | 1.0    | 1.0 | 0.9     |\n",
    "| Non-Parametric Bootstrapping | 0.91 | 0.88   | 0.97| 0.23    |\n",
    "| Smoothed Bootstrapping   | 0.57 | 0.84   | 0.79| 0.27    |\n",
    "| Parametric Bootstrapping | 0.9  | 0.93   | 0.96| 0.56    |\n",
    "| d-Jackknife              | 0.94 | 0.76   | 0.76| 0.35    |\n",
    "| Asymptotic Theory        | 0.98 | 0.94   | 1.0 | NA      |"
   ]
  },
  {
   "cell_type": "markdown",
   "metadata": {},
   "source": [
    "#### Cauchy(5, 9) Distribution\n",
    "\n",
    "| Resampling Technique     | Mean | Median | IQR | Entropy |\n",
    "|--------------------------|------|--------|-----|---------|\n",
    "| Exact Resampling         | 0.0  | 1.0    | 1.0 | 0.79    |\n",
    "| Non-Parametric Bootstrapping | 0.0  | 0.9    | 0.96| 0.36    |\n",
    "| Smoothed Bootstrapping   | 0.0  | 0.91   | 0.97| 0.4     |\n",
    "| Parametric Bootstrapping | 0.0  | 0.94   | 0.96| 0.56    |\n",
    "| d-Jackknife              | 0.0  | 0.75   | 0.76| 0.0     |"
   ]
  },
  {
   "cell_type": "markdown",
   "metadata": {},
   "source": [
    "#### 1/2 * Normal(5, 1) + 1/2 * Cauchy(10, 1) Distribution\n",
    "\n",
    "| Resampling Technique     | Mean | Median | IQR | Entropy |\n",
    "|--------------------------|------|--------|-----|---------|\n",
    "| Exact Resampling         | 1.0  | 1.0    | 1.0 | 0.91    |\n",
    "| Non-Parametric Bootstrapping | 0.91 | 0.91   | 0.94| 0.39    |\n",
    "| Smoothed Bootstrapping   | 0.8  | 0.9    | 0.97| 0.4     |\n",
    "| Parametric Bootstrapping | 1.0  | 0.96   | 1.0 | 0.0     |\n",
    "| d-Jackknife              | 0.95 | 0.72   | 0.78| 0.0     |"
   ]
  },
  {
   "cell_type": "markdown",
   "metadata": {},
   "source": []
  }
 ],
 "metadata": {
  "kernelspec": {
   "display_name": "Python 3",
   "language": "python",
   "name": "python3"
  },
  "language_info": {
   "codemirror_mode": {
    "name": "ipython",
    "version": 3
   },
   "file_extension": ".py",
   "mimetype": "text/x-python",
   "name": "python",
   "nbconvert_exporter": "python",
   "pygments_lexer": "ipython3",
   "version": "3.8.18"
  }
 },
 "nbformat": 4,
 "nbformat_minor": 2
}
